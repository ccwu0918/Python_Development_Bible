{
  "nbformat": 4,
  "nbformat_minor": 0,
  "metadata": {
    "colab": {
      "name": "gradio網頁互動.ipynb",
      "provenance": [],
      "collapsed_sections": [
        "Gkd9Hh6_TfoM",
        "LVCCmThPTnzq",
        "3NYO1aRQT8eH",
        "IF3SkWJjT12x",
        "Rx7iHq2lUKNf"
      ]
    },
    "kernelspec": {
      "display_name": "Python 3",
      "name": "python3"
    },
    "language_info": {
      "name": "python"
    }
  },
  "cells": [
    {
      "cell_type": "code",
      "metadata": {
        "id": "3-2Cul9rIZRa"
      },
      "source": [
        "!pip install gradio"
      ],
      "execution_count": null,
      "outputs": []
    },
    {
      "cell_type": "markdown",
      "metadata": {
        "id": "LKDZCGplTO42"
      },
      "source": [
        "## 基本原理"
      ]
    },
    {
      "cell_type": "code",
      "metadata": {
        "id": "afmkfd_rIl3N"
      },
      "source": [
        "import gradio as gr\n",
        "\n",
        "def replace1(text):\n",
        "  return text.replace('morning', 'evening')\n",
        "\n",
        "grobj = gr.Interface(fn=replace1, inputs=gr.inputs.Textbox(), outputs=gr.outputs.Textbox())\n",
        "grobj.launch()"
      ],
      "execution_count": null,
      "outputs": []
    },
    {
      "cell_type": "markdown",
      "metadata": {
        "id": "xFjgF3VyTZj5"
      },
      "source": [
        "## 手寫數字"
      ]
    },
    {
      "cell_type": "code",
      "metadata": {
        "id": "PYhNb9FJIqH2"
      },
      "source": [
        "import tensorflow as tf\n",
        "from urllib.request import urlretrieve\n",
        "import gradio as gr\n",
        "\n",
        "urlretrieve(\"https://gr-models.s3-us-west-2.amazonaws.com/mnist-model.h5\", \"mnist-model.h5\")\n",
        "model = tf.keras.models.load_model(\"mnist-model.h5\")\n",
        "\n",
        "def mnist(image):\n",
        "    image = image.reshape(1, -1)  #(28,28)轉為(1,784)\n",
        "    prediction = model.predict(image).tolist()[0]\n",
        "    return {str(i): prediction[i] for i in range(10)}\n",
        "\n",
        "out = gr.outputs.Label(num_top_classes=3, label='預測結果')\n",
        "grobj = gr.Interface(fn=mnist, inputs=\"sketchpad\", outputs=out, title=\"手寫數字\")\n",
        "#grobj = gr.Interface(fn=mnist, inputs=\"sketchpad\", outputs=out, title=\"手寫數字\", live=True)\n",
        "grobj.launch()"
      ],
      "execution_count": null,
      "outputs": []
    },
    {
      "cell_type": "markdown",
      "metadata": {
        "id": "Gkd9Hh6_TfoM"
      },
      "source": [
        "## Inception圖片物件偵測"
      ]
    },
    {
      "cell_type": "code",
      "metadata": {
        "id": "gMVSAVjBI07u"
      },
      "source": [
        "import tensorflow as tf\n",
        "import numpy as np\n",
        "import requests\n",
        "import gradio as gr\n",
        "\n",
        "model = tf.keras.applications.InceptionV3()\n",
        "#讀取標籤\n",
        "response = requests.get('https://git.io/JJkYN')\n",
        "labels = response.text.split('\\n')\n",
        "#print(labels)\n",
        "\n",
        "def classify(img):\n",
        "  img = np.expand_dims(img, 0)\n",
        "  img = tf.keras.applications.inception_v3.preprocess_input(img)\n",
        "  prediction = model.predict(img).flatten()\n",
        "  return {labels[i]: float(prediction[i]) for i in range(len(prediction))}\n",
        "\n",
        "image = gr.inputs.Image(shape=(299, 299))\n",
        "label = gr.outputs.Label(num_top_classes=3, label='預測結果')\n",
        "grobj = gr.Interface(fn=classify, inputs=image, outputs=label, title='Inception物件偵測')\n",
        "#grobj = gr.Interface(fn=classify, inputs=image, outputs=label, title='Inception物件偵測', examples=[['lion1.jpg'], ['tiger1.jpg']])\n",
        "grobj.launch()"
      ],
      "execution_count": null,
      "outputs": []
    },
    {
      "cell_type": "markdown",
      "metadata": {
        "id": "LVCCmThPTnzq"
      },
      "source": [
        "## 英文對話(GPT-2)"
      ]
    },
    {
      "cell_type": "code",
      "metadata": {
        "id": "SdeVMtaiOaoR"
      },
      "source": [
        "!pip install git+https://github.com/huggingface/transformers.git"
      ],
      "execution_count": null,
      "outputs": []
    },
    {
      "cell_type": "code",
      "metadata": {
        "id": "cJmiRBd9LRMN"
      },
      "source": [
        "import gradio as gr\n",
        "import tensorflow as tf\n",
        "from transformers import TFGPT2LMHeadModel, GPT2Tokenizer\n",
        "\n",
        "tokenizer = GPT2Tokenizer.from_pretrained(\"gpt2\")\n",
        "model = TFGPT2LMHeadModel.from_pretrained(\"gpt2\", pad_token_id=tokenizer.eos_token_id)\n",
        "\n",
        "def generate_text(inp):\n",
        "    input_ids = tokenizer.encode(inp, return_tensors='tf')\n",
        "    beam_output = model.generate(input_ids, max_length=100, num_beams=5, no_repeat_ngram_size=2, early_stopping=True)\n",
        "    output = tokenizer.decode(beam_output[0], skip_special_tokens=True, clean_up_tokenization_spaces=True)\n",
        "    return output[:-1]\n",
        "\n",
        "out = gr.outputs.Textbox(label='GPT-2回應')\n",
        "grobj = gr.Interface(generate_text,inputs=\"textbox\", outputs=out, title=\"GPT-2\")\n",
        "grobj.launch()"
      ],
      "execution_count": null,
      "outputs": []
    },
    {
      "cell_type": "markdown",
      "metadata": {
        "id": "3NYO1aRQT8eH"
      },
      "source": [
        "## 自動歌詞產生器"
      ]
    },
    {
      "cell_type": "code",
      "metadata": {
        "id": "345wsv7rUzBf"
      },
      "source": [
        "import gradio as gr\n",
        "\n",
        "grobj = gr.Interface.load(\"huggingface/uer/gpt2-chinese-lyric\", inputs=\"text\", outputs=\"text\")\n",
        "grobj.launch()"
      ],
      "execution_count": null,
      "outputs": []
    },
    {
      "cell_type": "code",
      "metadata": {
        "id": "xfLqxqcRR132"
      },
      "source": [
        "!pip install opencc"
      ],
      "execution_count": null,
      "outputs": []
    },
    {
      "cell_type": "code",
      "metadata": {
        "id": "Q8y_ZbAtLIks"
      },
      "source": [
        "import gradio as gr\n",
        "from transformers import BertTokenizer, GPT2LMHeadModel, TextGenerationPipeline\n",
        "from opencc import OpenCC\n",
        "\n",
        "tokenizer = BertTokenizer.from_pretrained(\"uer/gpt2-chinese-lyric\")\n",
        "model = GPT2LMHeadModel.from_pretrained(\"uer/gpt2-chinese-lyric\")\n",
        "cc = OpenCC('s2twp')\n",
        "\n",
        "def generate_text(inp):\n",
        "    text_generator = TextGenerationPipeline(model, tokenizer)\n",
        "    ret = text_generator(inp, max_length=100, do_sample=True)\n",
        "    return cc.convert(ret[0]['generated_text'])\n",
        "\n",
        "output_text = gr.outputs.Textbox()\n",
        "grobj = gr.Interface(generate_text,inputs=\"textbox\", outputs=output_text, title=\"自動產生歌詞\")\n",
        "grobj.launch()"
      ],
      "execution_count": null,
      "outputs": []
    },
    {
      "cell_type": "markdown",
      "metadata": {
        "id": "IF3SkWJjT12x"
      },
      "source": [
        "## 鐵達尼號生存預測"
      ]
    },
    {
      "cell_type": "code",
      "metadata": {
        "id": "oLpEW9pQ9JSv"
      },
      "source": [
        "import gradio as gr\n",
        "import pandas as pd\n",
        "import numpy as np\n",
        "import sklearn\n",
        "from sklearn import preprocessing\n",
        "from sklearn.model_selection import train_test_split\n",
        "from sklearn.ensemble import RandomForestClassifier\n",
        "from sklearn.metrics import accuracy_score\n",
        "\n",
        "def encode_ages(df): \n",
        "    df.Age = df.Age.fillna(-0.5)\n",
        "    bins = (-1, 0, 5, 12, 18, 25, 35, 50, 80)\n",
        "    categories = pd.cut(df.Age, bins, labels=False)\n",
        "    df.Age = categories\n",
        "    return df\n",
        "\n",
        "def encode_fares(df):\n",
        "    df.Fare = df.Fare.fillna(-0.5)\n",
        "    bins = (-1, 0, 8, 15, 31, 50, 80, 100, 550)\n",
        "    categories = pd.cut(df.Fare, bins, labels=False)\n",
        "    df.Fare = categories\n",
        "    return df\n",
        "\n",
        "def encode_sex(df):\n",
        "    mapping = {\"male\": 0, \"female\": 1}\n",
        "    return df.replace({'Sex': mapping})\n",
        "\n",
        "data = pd.read_csv('https://raw.githubusercontent.com/gradio-app/titanic/master/train.csv')\n",
        "\n",
        "def transform_features(df):\n",
        "    df = encode_ages(df)\n",
        "    df = encode_fares(df)\n",
        "    df = encode_sex(df)\n",
        "    return df\n",
        "\n",
        "data1 = data[['Fare', 'Age', 'Sex', 'Survived']]\n",
        "data1 = transform_features(data1)\n",
        "X_all = data1.drop(['Survived'], axis=1)\n",
        "y_all = data1['Survived']\n",
        "X_train, X_test, y_train, y_test = train_test_split(X_all, y_all, test_size=0.2)\n",
        "clf = RandomForestClassifier()\n",
        "clf.fit(X_train, y_train)\n",
        "\n",
        "def predict_survival(sex, age, fare):\n",
        "    df = pd.DataFrame.from_dict({'Sex': [sex], 'Age': [age], 'Fare': [fare]})\n",
        "    df = encode_sex(df)\n",
        "    df = encode_fares(df)\n",
        "    df = encode_ages(df)\n",
        "    pred = clf.predict_proba(df)[0]\n",
        "    return {'死亡': pred[0], '生還': pred[1]}\n",
        "\n",
        "sex = gr.inputs.Radio(['female', 'male'], label=\"性別\")\n",
        "age = gr.inputs.Slider(minimum=0, maximum=80, step=1, default=22, label=\"年齡\")\n",
        "fare = gr.inputs.Slider(minimum=0, maximum=550, step=1, default=20, label=\"船費\")\n",
        "out = gr.outputs.Label(label='預測結果')\n",
        "grobj = gr.Interface(fn=predict_survival, inputs=[sex, age, fare], outputs=out, title='鐵達尼號生存預測', live=True)\n",
        "grobj.launch()"
      ],
      "execution_count": null,
      "outputs": []
    },
    {
      "cell_type": "markdown",
      "metadata": {
        "id": "Rx7iHq2lUKNf"
      },
      "source": [
        "## 使用自行訓練的模型"
      ]
    },
    {
      "cell_type": "code",
      "metadata": {
        "id": "I-7d1v2SUNqZ"
      },
      "source": [
        "import tensorflow.keras\n",
        "import numpy as np\n",
        "import gradio as gr\n",
        "\n",
        "model = tensorflow.keras.models.load_model('left_right.h5')\n",
        "labels = ['normal','left','right']\n",
        "\n",
        "def classify(img):\n",
        "  img = (img.astype(np.float32) / 127.0) - 1\n",
        "  img = np.expand_dims(img, 0)\n",
        "  prediction = model.predict(img)\n",
        "  return {labels[i]: float(prediction[0][i]) for i in range(len(prediction[0]))}\n",
        "\n",
        "image = gr.inputs.Image(shape=(224, 224), label='輸入圖片')\n",
        "label = gr.outputs.Label(num_top_classes=3, label='預測結果')\n",
        "grobj = gr.Interface(fn=classify, inputs=image, outputs=label, examples=[['left1.jpg'], ['right1.jpg'], ['normal1.jpg']], title='使用自行訓練的模型')\n",
        "grobj.launch()"
      ],
      "execution_count": null,
      "outputs": []
    }
  ]
}