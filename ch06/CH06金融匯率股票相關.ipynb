{
  "nbformat": 4,
  "nbformat_minor": 0,
  "metadata": {
    "colab": {
      "name": "CH06金融匯率股票相關.ipynb",
      "provenance": [],
      "collapsed_sections": [],
      "include_colab_link": true
    },
    "kernelspec": {
      "display_name": "Python 3",
      "name": "python3"
    }
  },
  "cells": [
    {
      "cell_type": "markdown",
      "metadata": {
        "id": "view-in-github",
        "colab_type": "text"
      },
      "source": [
        "<a href=\"https://colab.research.google.com/github/ccwu0918/Python_Development_Bible/blob/main/ch06/CH06%E9%87%91%E8%9E%8D%E5%8C%AF%E7%8E%87%E8%82%A1%E7%A5%A8%E7%9B%B8%E9%97%9C.ipynb\" target=\"_parent\"><img src=\"https://colab.research.google.com/assets/colab-badge.svg\" alt=\"Open In Colab\"/></a>"
      ]
    },
    {
      "cell_type": "code",
      "source": [
        "!git clone https://github.com/ccwu0918/Python_Development_Bible"
      ],
      "metadata": {
        "id": "L3AKsKo5iNQh",
        "outputId": "97c3e1fc-b5ab-4f2f-9de4-bd99f3e4d401",
        "colab": {
          "base_uri": "https://localhost:8080/"
        }
      },
      "execution_count": 1,
      "outputs": [
        {
          "output_type": "stream",
          "name": "stdout",
          "text": [
            "Cloning into 'Python_Development_Bible'...\n",
            "remote: Enumerating objects: 264, done.\u001b[K\n",
            "remote: Counting objects: 100% (147/147), done.\u001b[K\n",
            "remote: Compressing objects: 100% (127/127), done.\u001b[K\n",
            "remote: Total 264 (delta 29), reused 89 (delta 14), pack-reused 117\u001b[K\n",
            "Receiving objects: 100% (264/264), 116.75 MiB | 28.88 MiB/s, done.\n",
            "Resolving deltas: 100% (38/38), done.\n",
            "Checking out files: 100% (214/214), done.\n"
          ]
        }
      ]
    },
    {
      "cell_type": "code",
      "source": [
        "!unzip /content/Python_Development_Bible/ch06/download_TWCB.zip "
      ],
      "metadata": {
        "id": "HGmSiA2siNy3",
        "outputId": "3c098bb3-eee6-4c7e-fab9-cafaab04159d",
        "colab": {
          "base_uri": "https://localhost:8080/"
        }
      },
      "execution_count": 3,
      "outputs": [
        {
          "output_type": "stream",
          "name": "stdout",
          "text": [
            "Archive:  /content/Python_Development_Bible/ch06/download_TWCB.zip\n",
            "  inflating: download_TWCB.json      \n"
          ]
        }
      ]
    },
    {
      "cell_type": "markdown",
      "metadata": {
        "id": "1GNukJjv8IPf"
      },
      "source": [
        "## twder：新台幣匯率擷取"
      ]
    },
    {
      "cell_type": "code",
      "metadata": {
        "id": "wBVXcFva8P45",
        "outputId": "99a2db51-2b35-406b-e5e2-65424d80cd76",
        "colab": {
          "base_uri": "https://localhost:8080/"
        }
      },
      "source": [
        "!pip install twder"
      ],
      "execution_count": 4,
      "outputs": [
        {
          "output_type": "stream",
          "name": "stdout",
          "text": [
            "Looking in indexes: https://pypi.org/simple, https://us-python.pkg.dev/colab-wheels/public/simple/\n",
            "Collecting twder\n",
            "  Downloading twder-0.2.2-py3-none-any.whl (4.5 kB)\n",
            "Requirement already satisfied: lxml in /usr/local/lib/python3.7/dist-packages (from twder) (4.9.1)\n",
            "Installing collected packages: twder\n",
            "Successfully installed twder-0.2.2\n"
          ]
        }
      ]
    },
    {
      "cell_type": "code",
      "metadata": {
        "id": "v3-7joMl9iqm"
      },
      "source": [
        "import twder"
      ],
      "execution_count": 5,
      "outputs": []
    },
    {
      "cell_type": "code",
      "metadata": {
        "id": "0z7cMLhq9S1U",
        "outputId": "13a67980-b129-4777-d559-5bbbe1e11171",
        "colab": {
          "base_uri": "https://localhost:8080/"
        }
      },
      "source": [
        "print(twder.currencies())"
      ],
      "execution_count": 6,
      "outputs": [
        {
          "output_type": "stream",
          "name": "stdout",
          "text": [
            "['USD', 'HKD', 'GBP', 'AUD', 'CAD', 'SGD', 'CHF', 'JPY', 'ZAR', 'SEK', 'NZD', 'THB', 'PHP', 'IDR', 'EUR', 'KRW', 'VND', 'MYR', 'CNY']\n"
          ]
        }
      ]
    },
    {
      "cell_type": "code",
      "metadata": {
        "id": "UXtPX6KjVIbF",
        "outputId": "1692d725-d85f-4a2b-93d4-e7c2b8ca02da",
        "colab": {
          "base_uri": "https://localhost:8080/"
        }
      },
      "source": [
        "print(twder.currency_name_dict())"
      ],
      "execution_count": 7,
      "outputs": [
        {
          "output_type": "stream",
          "name": "stdout",
          "text": [
            "{'USD': '美金 (USD)', 'HKD': '港幣 (HKD)', 'GBP': '英鎊 (GBP)', 'AUD': '澳幣 (AUD)', 'CAD': '加拿大幣 (CAD)', 'SGD': '新加坡幣 (SGD)', 'CHF': '瑞士法郎 (CHF)', 'JPY': '日圓 (JPY)', 'ZAR': '南非幣 (ZAR)', 'SEK': '瑞典幣 (SEK)', 'NZD': '紐元 (NZD)', 'THB': '泰幣 (THB)', 'PHP': '菲國比索 (PHP)', 'IDR': '印尼幣 (IDR)', 'EUR': '歐元 (EUR)', 'KRW': '韓元 (KRW)', 'VND': '越南盾 (VND)', 'MYR': '馬來幣 (MYR)', 'CNY': '人民幣 (CNY)'}\n"
          ]
        }
      ]
    },
    {
      "cell_type": "code",
      "metadata": {
        "id": "GpbDMiGE9z5K",
        "outputId": "2818329c-f030-41f5-d97f-50ba2d235f12",
        "colab": {
          "base_uri": "https://localhost:8080/"
        }
      },
      "source": [
        "print(twder.now_all())"
      ],
      "execution_count": 8,
      "outputs": [
        {
          "output_type": "stream",
          "name": "stdout",
          "text": [
            "{'USD': ('2022/09/20 00:01', '30.975', '31.645', '31.3', '31.45'), 'HKD': ('2022/09/20 00:01', '3.842', '4.046', '3.963', '4.033'), 'GBP': ('2022/09/20 00:01', '34.6', '36.72', '35.495', '36.125'), 'AUD': ('2022/09/20 00:01', '20.62', '21.4', '20.835', '21.18'), 'CAD': ('2022/09/20 00:01', '23.13', '24.04', '23.46', '23.79'), 'SGD': ('2022/09/20 00:01', '21.7', '22.61', '22.17', '22.39'), 'CHF': ('2022/09/20 00:01', '31.68', '32.88', '32.29', '32.68'), 'JPY': ('2022/09/20 00:01', '0.2097', '0.2225', '0.2165', '0.2215'), 'ZAR': ('2022/09/20 00:01', '-', '-', '1.725', '1.815'), 'SEK': ('2022/09/20 00:01', '2.52', '3.04', '2.85', '2.97'), 'NZD': ('2022/09/20 00:01', '18.16', '19.01', '18.49', '18.79'), 'THB': ('2022/09/20 00:01', '0.721', '0.911', '0.8304', '0.8764'), 'PHP': ('2022/09/20 00:01', '0.4731', '0.6061', '-', '-'), 'IDR': ('2022/09/20 00:01', '0.00168', '0.00238', '-', '-'), 'EUR': ('2022/09/20 00:01', '30.59', '31.93', '31.105', '31.705'), 'KRW': ('2022/09/20 00:01', '0.02081', '0.02471', '-', '-'), 'VND': ('2022/09/20 00:01', '0.00108', '0.00149', '-', '-'), 'MYR': ('2022/09/20 00:01', '5.885', '7.365', '-', '-'), 'CNY': ('2022/09/20 00:01', '4.382', '4.544', '4.449', '4.509')}\n"
          ]
        }
      ]
    },
    {
      "cell_type": "code",
      "metadata": {
        "id": "ycFU3_mH-Sd_",
        "outputId": "6c0e0ca3-0829-4b49-a575-cc9dcd4487bb",
        "colab": {
          "base_uri": "https://localhost:8080/"
        }
      },
      "source": [
        "print(twder.now('USD'))"
      ],
      "execution_count": 9,
      "outputs": [
        {
          "output_type": "stream",
          "name": "stdout",
          "text": [
            "('2022/09/20 00:01', '30.975', '31.645', '31.3', '31.45')\n"
          ]
        }
      ]
    },
    {
      "cell_type": "code",
      "metadata": {
        "id": "Gue5Vf-J-qJr",
        "outputId": "47568998-984d-4add-b73c-b3fd7348854d",
        "colab": {
          "base_uri": "https://localhost:8080/"
        }
      },
      "source": [
        "print(twder.past_day('USD'))"
      ],
      "execution_count": 10,
      "outputs": [
        {
          "output_type": "stream",
          "name": "stdout",
          "text": [
            "[('2022/09/19 09:00:59', '30.875', '31.545', '31.225', '31.325'), ('2022/09/19 09:04:22', '30.885', '31.555', '31.235', '31.335'), ('2022/09/19 09:04:46', '30.89', '31.56', '31.24', '31.34'), ('2022/09/19 09:07:23', '30.895', '31.565', '31.245', '31.345'), ('2022/09/19 09:12:15', '30.9', '31.57', '31.25', '31.35'), ('2022/09/19 09:12:50', '30.905', '31.575', '31.255', '31.355'), ('2022/09/19 09:14:55', '30.91', '31.58', '31.26', '31.36'), ('2022/09/19 09:16:06', '30.915', '31.585', '31.265', '31.365'), ('2022/09/19 09:17:28', '30.92', '31.59', '31.27', '31.37'), ('2022/09/19 09:20:21', '30.925', '31.595', '31.275', '31.375'), ('2022/09/19 09:21:05', '30.93', '31.6', '31.28', '31.38'), ('2022/09/19 09:21:43', '30.935', '31.605', '31.285', '31.385'), ('2022/09/19 09:22:59', '30.94', '31.61', '31.29', '31.39'), ('2022/09/19 09:27:08', '30.945', '31.615', '31.295', '31.395'), ('2022/09/19 09:27:46', '30.95', '31.62', '31.3', '31.4'), ('2022/09/19 09:28:19', '30.945', '31.615', '31.295', '31.395'), ('2022/09/19 09:36:26', '30.95', '31.62', '31.3', '31.4'), ('2022/09/19 09:37:31', '30.955', '31.625', '31.305', '31.405'), ('2022/09/19 09:39:07', '30.96', '31.63', '31.31', '31.41'), ('2022/09/19 09:41:00', '30.965', '31.635', '31.315', '31.415'), ('2022/09/19 09:45:39', '30.97', '31.64', '31.32', '31.42'), ('2022/09/19 09:47:49', '30.975', '31.645', '31.325', '31.425'), ('2022/09/19 09:47:53', '30.975', '31.645', '31.325', '31.425'), ('2022/09/19 09:49:47', '30.975', '31.645', '31.325', '31.425'), ('2022/09/19 09:51:02', '30.98', '31.65', '31.33', '31.43'), ('2022/09/19 09:52:23', '30.985', '31.655', '31.335', '31.435'), ('2022/09/19 09:55:48', '30.985', '31.655', '31.335', '31.435'), ('2022/09/19 10:00:59', '30.98', '31.65', '31.33', '31.43'), ('2022/09/19 10:01:35', '30.975', '31.645', '31.325', '31.425'), ('2022/09/19 10:05:42', '30.97', '31.64', '31.32', '31.42'), ('2022/09/19 10:05:45', '30.97', '31.64', '31.32', '31.42'), ('2022/09/19 10:09:01', '30.975', '31.645', '31.325', '31.425'), ('2022/09/19 10:09:51', '30.975', '31.645', '31.325', '31.425'), ('2022/09/19 10:15:48', '30.975', '31.645', '31.325', '31.425'), ('2022/09/19 10:17:20', '30.98', '31.65', '31.33', '31.43'), ('2022/09/19 10:24:49', '30.98', '31.65', '31.33', '31.43'), ('2022/09/19 10:27:36', '30.985', '31.655', '31.335', '31.435'), ('2022/09/19 10:31:19', '30.98', '31.65', '31.33', '31.43'), ('2022/09/19 10:37:03', '30.975', '31.645', '31.325', '31.425'), ('2022/09/19 10:38:20', '30.97', '31.64', '31.32', '31.42'), ('2022/09/19 10:39:52', '30.965', '31.635', '31.315', '31.415'), ('2022/09/19 10:43:50', '30.96', '31.63', '31.31', '31.41'), ('2022/09/19 10:48:53', '30.96', '31.63', '31.31', '31.41'), ('2022/09/19 10:59:00', '30.955', '31.625', '31.305', '31.405'), ('2022/09/19 11:10:32', '30.955', '31.625', '31.305', '31.405'), ('2022/09/19 11:19:52', '30.95', '31.62', '31.3', '31.4'), ('2022/09/19 11:22:25', '30.955', '31.625', '31.305', '31.405'), ('2022/09/19 11:31:32', '30.955', '31.625', '31.305', '31.405'), ('2022/09/19 11:34:29', '30.96', '31.63', '31.31', '31.41'), ('2022/09/19 11:40:26', '30.96', '31.63', '31.31', '31.41'), ('2022/09/19 11:53:33', '30.965', '31.635', '31.315', '31.415'), ('2022/09/19 12:02:15', '30.965', '31.635', '31.315', '31.415'), ('2022/09/19 12:18:26', '30.965', '31.635', '31.315', '31.415'), ('2022/09/19 12:28:18', '30.97', '31.64', '31.32', '31.42'), ('2022/09/19 12:35:36', '30.97', '31.64', '31.32', '31.42'), ('2022/09/19 12:45:02', '30.97', '31.64', '31.32', '31.42'), ('2022/09/19 12:59:17', '30.97', '31.64', '31.32', '31.42'), ('2022/09/19 13:00:05', '30.97', '31.64', '31.32', '31.42'), ('2022/09/19 13:41:22', '30.97', '31.64', '31.32', '31.42'), ('2022/09/19 13:57:59', '30.97', '31.64', '31.32', '31.42'), ('2022/09/19 14:00:19', '30.98', '31.65', '31.33', '31.43'), ('2022/09/19 14:00:40', '30.985', '31.655', '31.335', '31.435'), ('2022/09/19 14:03:01', '30.99', '31.66', '31.34', '31.44'), ('2022/09/19 14:09:16', '30.99', '31.66', '31.34', '31.44'), ('2022/09/19 14:10:27', '30.995', '31.665', '31.345', '31.445'), ('2022/09/19 14:11:36', '30.99', '31.66', '31.34', '31.44'), ('2022/09/19 14:15:08', '30.99', '31.66', '31.34', '31.44'), ('2022/09/19 14:19:17', '30.985', '31.655', '31.335', '31.435'), ('2022/09/19 14:23:11', '30.98', '31.65', '31.33', '31.43'), ('2022/09/19 14:27:59', '30.975', '31.645', '31.325', '31.425'), ('2022/09/19 14:30:29', '30.97', '31.64', '31.32', '31.42'), ('2022/09/19 14:33:21', '30.975', '31.645', '31.325', '31.425'), ('2022/09/19 14:45:37', '30.975', '31.645', '31.325', '31.425'), ('2022/09/19 14:53:46', '30.98', '31.65', '31.33', '31.43'), ('2022/09/19 15:04:42', '30.98', '31.65', '31.33', '31.43'), ('2022/09/19 15:14:26', '30.98', '31.65', '31.33', '31.43'), ('2022/09/19 15:16:28', '30.975', '31.645', '31.325', '31.425'), ('2022/09/19 15:21:32', '30.98', '31.65', '31.33', '31.43'), ('2022/09/19 15:28:11', '30.98', '31.65', '31.33', '31.43'), ('2022/09/19 15:31:46', '30.98', '31.65', '31.33', '31.43'), ('2022/09/19 15:32:11', '30.975', '31.645', '31.325', '31.425'), ('2022/09/19 15:33:47', '30.975', '31.645', '31.325', '31.425'), ('2022/09/19 15:35:13', '30.97', '31.64', '31.32', '31.42'), ('2022/09/19 15:37:26', '30.975', '31.645', '31.325', '31.425'), ('2022/09/19 15:42:23', '30.975', '31.645', '31.325', '31.425'), ('2022/09/19 15:46:01', '30.975', '31.645', '31.325', '31.425'), ('2022/09/19 15:49:37', '30.975', '31.645', '31.325', '31.425'), ('2022/09/19 15:58:02', '30.97', '31.64', '31.32', '31.42'), ('2022/09/19 16:01:00', '30.965', '31.635', '31.315', '31.415')]\n"
          ]
        }
      ]
    },
    {
      "cell_type": "code",
      "metadata": {
        "id": "1FR56ILb_HFd",
        "outputId": "7df5235c-0d10-40e9-ad07-828771b04024",
        "colab": {
          "base_uri": "https://localhost:8080/"
        }
      },
      "source": [
        "print(twder.past_six_month('USD'))"
      ],
      "execution_count": 11,
      "outputs": [
        {
          "output_type": "stream",
          "name": "stdout",
          "text": [
            "[('2022/09/19', '30.965', '31.635', '31.315', '31.415'), ('2022/09/16', '30.9', '31.57', '31.25', '31.35'), ('2022/09/15', '30.735', '31.405', '31.085', '31.185'), ('2022/09/14', '30.69', '31.36', '31.04', '31.14'), ('2022/09/13', '30.49', '31.16', '30.84', '30.94'), ('2022/09/12', '30.475', '31.145', '30.825', '30.925'), ('2022/09/08', '30.5', '31.17', '30.85', '30.95'), ('2022/09/07', '30.53', '31.2', '30.88', '30.98'), ('2022/09/06', '30.355', '31.025', '30.705', '30.805'), ('2022/09/05', '30.315', '30.985', '30.665', '30.765'), ('2022/09/02', '30.185', '30.855', '30.535', '30.635'), ('2022/09/01', '30.13', '30.8', '30.48', '30.58'), ('2022/08/31', '30.035', '30.705', '30.385', '30.485'), ('2022/08/30', '30.065', '30.735', '30.415', '30.515'), ('2022/08/29', '30', '30.67', '30.35', '30.45'), ('2022/08/26', '29.82', '30.49', '30.17', '30.27'), ('2022/08/25', '29.8', '30.47', '30.15', '30.25'), ('2022/08/24', '29.87', '30.54', '30.22', '30.32'), ('2022/08/23', '29.805', '30.475', '30.155', '30.255'), ('2022/08/22', '29.7', '30.37', '30.05', '30.15'), ('2022/08/19', '29.625', '30.295', '29.975', '30.075'), ('2022/08/18', '29.6', '30.27', '29.95', '30.05'), ('2022/08/17', '29.585', '30.255', '29.935', '30.035'), ('2022/08/16', '29.6', '30.27', '29.95', '30.05'), ('2022/08/15', '29.59', '30.26', '29.94', '30.04'), ('2022/08/12', '29.575', '30.245', '29.925', '30.025'), ('2022/08/11', '29.55', '30.22', '29.9', '30'), ('2022/08/10', '29.605', '30.275', '29.955', '30.055'), ('2022/08/09', '29.595', '30.265', '29.945', '30.045'), ('2022/08/08', '29.6', '30.27', '29.95', '30.05'), ('2022/08/05', '29.555', '30.225', '29.905', '30.005'), ('2022/08/04', '29.6', '30.27', '29.95', '30.05'), ('2022/08/03', '29.6', '30.27', '29.95', '30.05'), ('2022/08/02', '29.6', '30.27', '29.95', '30.05'), ('2022/08/01', '29.58', '30.25', '29.93', '30.03'), ('2022/07/29', '29.54', '30.21', '29.89', '29.99'), ('2022/07/28', '29.53', '30.2', '29.88', '29.98'), ('2022/07/27', '29.535', '30.205', '29.885', '29.985'), ('2022/07/26', '29.515', '30.185', '29.865', '29.965'), ('2022/07/25', '29.51', '30.18', '29.86', '29.96'), ('2022/07/22', '29.52', '30.19', '29.87', '29.97'), ('2022/07/21', '29.495', '30.165', '29.845', '29.945'), ('2022/07/20', '29.495', '30.165', '29.845', '29.945'), ('2022/07/19', '29.505', '30.175', '29.855', '29.955'), ('2022/07/18', '29.52', '30.19', '29.87', '29.97'), ('2022/07/15', '29.55', '30.22', '29.9', '30'), ('2022/07/14', '29.485', '30.155', '29.835', '29.935'), ('2022/07/13', '29.455', '30.125', '29.805', '29.905'), ('2022/07/12', '29.495', '30.165', '29.845', '29.945'), ('2022/07/11', '29.42', '30.09', '29.77', '29.87'), ('2022/07/08', '29.385', '30.055', '29.735', '29.835'), ('2022/07/07', '29.39', '30.06', '29.74', '29.84'), ('2022/07/06', '29.41', '30.08', '29.76', '29.86'), ('2022/07/05', '29.375', '30.045', '29.725', '29.825'), ('2022/07/04', '29.35', '30.02', '29.7', '29.8'), ('2022/07/01', '29.365', '30.035', '29.715', '29.815'), ('2022/06/30', '29.32', '29.99', '29.67', '29.77'), ('2022/06/29', '29.27', '29.94', '29.62', '29.72'), ('2022/06/28', '29.25', '29.92', '29.6', '29.7'), ('2022/06/27', '29.21', '29.88', '29.56', '29.66'), ('2022/06/24', '29.325', '29.995', '29.675', '29.775'), ('2022/06/23', '29.38', '30.05', '29.73', '29.83'), ('2022/06/22', '29.39', '30.06', '29.74', '29.84'), ('2022/06/21', '29.31', '29.98', '29.66', '29.76'), ('2022/06/20', '29.34', '30.01', '29.69', '29.79'), ('2022/06/17', '29.325', '29.995', '29.675', '29.775'), ('2022/06/16', '29.335', '30.005', '29.685', '29.785'), ('2022/06/15', '29.34', '30.01', '29.69', '29.79'), ('2022/06/14', '29.3', '29.97', '29.65', '29.75'), ('2022/06/13', '29.33', '30', '29.68', '29.78'), ('2022/06/10', '29.18', '29.85', '29.53', '29.63'), ('2022/06/09', '29.12', '29.79', '29.47', '29.57'), ('2022/06/08', '29.12', '29.79', '29.47', '29.57'), ('2022/06/07', '29.11', '29.78', '29.46', '29.56'), ('2022/06/06', '29.005', '29.675', '29.355', '29.455'), ('2022/06/02', '28.98', '29.65', '29.33', '29.43'), ('2022/06/01', '28.87', '29.54', '29.22', '29.32'), ('2022/05/31', '28.645', '29.315', '28.995', '29.095'), ('2022/05/30', '28.71', '29.38', '29.06', '29.16'), ('2022/05/27', '28.94', '29.61', '29.29', '29.39'), ('2022/05/26', '29.085', '29.755', '29.435', '29.535'), ('2022/05/25', '29.14', '29.81', '29.49', '29.59'), ('2022/05/24', '29.21', '29.88', '29.56', '29.66'), ('2022/05/23', '29.22', '29.89', '29.57', '29.67'), ('2022/05/20', '29.255', '29.925', '29.605', '29.705'), ('2022/05/19', '29.36', '30.03', '29.71', '29.81'), ('2022/05/18', '29.305', '29.975', '29.655', '29.755'), ('2022/05/17', '29.315', '29.985', '29.665', '29.765'), ('2022/05/16', '29.41', '30.08', '29.76', '29.86'), ('2022/05/13', '29.405', '30.075', '29.755', '29.855'), ('2022/05/12', '29.43', '30.1', '29.78', '29.88'), ('2022/05/11', '29.3', '29.97', '29.65', '29.75'), ('2022/05/10', '29.305', '29.975', '29.655', '29.755'), ('2022/05/09', '29.34', '30.01', '29.69', '29.79'), ('2022/05/06', '29.265', '29.935', '29.615', '29.715'), ('2022/05/05', '29.1', '29.77', '29.45', '29.55'), ('2022/05/04', '29.12', '29.79', '29.47', '29.57'), ('2022/05/03', '29.125', '29.795', '29.475', '29.575'), ('2022/04/29', '29.075', '29.745', '29.425', '29.525'), ('2022/04/28', '29.11', '29.78', '29.46', '29.56'), ('2022/04/27', '28.99', '29.66', '29.34', '29.44'), ('2022/04/26', '28.91', '29.58', '29.26', '29.36'), ('2022/04/25', '28.96', '29.63', '29.31', '29.41'), ('2022/04/22', '28.86', '29.53', '29.21', '29.31'), ('2022/04/21', '28.805', '29.475', '29.155', '29.255'), ('2022/04/20', '28.85', '29.52', '29.2', '29.3'), ('2022/04/19', '28.835', '29.505', '29.185', '29.285'), ('2022/04/18', '28.795', '29.465', '29.145', '29.245'), ('2022/04/15', '28.72', '29.39', '29.07', '29.17'), ('2022/04/14', '28.595', '29.265', '28.945', '29.045'), ('2022/04/13', '28.675', '29.345', '29.025', '29.125'), ('2022/04/12', '28.75', '29.42', '29.1', '29.2'), ('2022/04/11', '28.66', '29.33', '29.01', '29.11'), ('2022/04/08', '28.51', '29.18', '28.86', '28.96'), ('2022/04/07', '28.435', '29.105', '28.785', '28.885'), ('2022/04/06', '28.36', '29.03', '28.71', '28.81'), ('2022/04/01', '28.3', '28.97', '28.65', '28.75'), ('2022/03/31', '28.225', '28.895', '28.575', '28.675'), ('2022/03/30', '28.16', '28.83', '28.51', '28.61'), ('2022/03/29', '28.375', '29.045', '28.725', '28.825'), ('2022/03/28', '28.36', '29.03', '28.71', '28.81'), ('2022/03/25', '28.215', '28.885', '28.565', '28.665'), ('2022/03/24', '28.195', '28.865', '28.545', '28.645'), ('2022/03/23', '28.15', '28.82', '28.5', '28.6'), ('2022/03/22', '28.135', '28.805', '28.485', '28.585'), ('2022/03/21', '28.08', '28.75', '28.43', '28.53')]\n"
          ]
        }
      ]
    },
    {
      "cell_type": "code",
      "metadata": {
        "id": "bHv2WBKE_kuP",
        "outputId": "b412b094-3b08-4d13-8090-045029a39076",
        "colab": {
          "base_uri": "https://localhost:8080/"
        }
      },
      "source": [
        "print(twder.specify_month('USD', 2022, 9))"
      ],
      "execution_count": 13,
      "outputs": [
        {
          "output_type": "stream",
          "name": "stdout",
          "text": [
            "[('2022/09/19', '30.965', '31.635', '31.315', '31.415'), ('2022/09/16', '30.9', '31.57', '31.25', '31.35'), ('2022/09/15', '30.735', '31.405', '31.085', '31.185'), ('2022/09/14', '30.69', '31.36', '31.04', '31.14'), ('2022/09/13', '30.49', '31.16', '30.84', '30.94'), ('2022/09/12', '30.475', '31.145', '30.825', '30.925'), ('2022/09/08', '30.5', '31.17', '30.85', '30.95'), ('2022/09/07', '30.53', '31.2', '30.88', '30.98'), ('2022/09/06', '30.355', '31.025', '30.705', '30.805'), ('2022/09/05', '30.315', '30.985', '30.665', '30.765'), ('2022/09/02', '30.185', '30.855', '30.535', '30.635'), ('2022/09/01', '30.13', '30.8', '30.48', '30.58')]\n"
          ]
        }
      ]
    },
    {
      "cell_type": "markdown",
      "metadata": {
        "id": "h01tVFxWLIrF"
      },
      "source": [
        "## 應用：新台幣國際匯率查詢"
      ]
    },
    {
      "cell_type": "code",
      "metadata": {
        "id": "Vf9aTrDaLfH6",
        "outputId": "7b5368da-e9a9-44a0-e6a6-7264bb6cdd73",
        "colab": {
          "base_uri": "https://localhost:8080/"
        }
      },
      "source": [
        "import twder\n",
        "\n",
        "currencies = {'美元':'USD','港幣':'HKD','英鎊':'GBP','澳幣':'AUD','加拿大幣':'CAD','加幣':'CAD',\n",
        "        '新加坡幣':'SGD','瑞士法郎':'CHF','日幣':'JPY','南非幣':'ZAR','瑞典幣':'SEK',\n",
        "        '紐幣':'NZD','泰銖':'THB','菲律賓幣':'PHP','印尼幣':'IDR','歐元':'EUR','韓元':'KRW',\\\n",
        "        '越南盾':'VND','越南幣':'VND','馬來幣':'MYR','人民幣':'CNY' }\n",
        "keys = currencies.keys()\n",
        "tlist = ['現金買入', '現金賣出', '即期買入', '即期賣出']\n",
        "currency = '\\u7F8E\\u5143' #@param ['美元', '港幣', '英鎊', '澳幣', '加拿大幣', '加幣', '新加坡幣', '瑞士法郎', '日幣', '南非幣', '瑞典幣' , '紐幣' ,'泰銖' ,'菲律賓幣' ,'印尼幣' ,'歐元' ,'韓元' , '越南盾' ,'越南幣' ,'馬來幣' ,'人民幣']\n",
        "show = currency + '匯率：\\n'\n",
        "if currency in keys:\n",
        "    for i in range(4):\n",
        "        exchange = twder.now(currencies[currency])[i+1]\n",
        "        show = show + tlist[i] + '：' + str(exchange) + '\\n'\n",
        "    print(show)\n",
        "else:\n",
        "    print('無此貨幣資料！')"
      ],
      "execution_count": 15,
      "outputs": [
        {
          "output_type": "stream",
          "name": "stdout",
          "text": [
            "美元匯率：\n",
            "現金買入：30.975\n",
            "現金賣出：31.645\n",
            "即期買入：31.3\n",
            "即期賣出：31.45\n",
            "\n"
          ]
        }
      ]
    },
    {
      "cell_type": "markdown",
      "metadata": {
        "id": "y1Wb4KzC7og5"
      },
      "source": [
        "## google-currency：不同幣值換算"
      ]
    },
    {
      "cell_type": "code",
      "metadata": {
        "id": "kIqTz8XgWk_5",
        "outputId": "2187be92-37a5-4902-eb85-e0ec09d057c7",
        "colab": {
          "base_uri": "https://localhost:8080/"
        }
      },
      "source": [
        "!pip install google-currency"
      ],
      "execution_count": 16,
      "outputs": [
        {
          "output_type": "stream",
          "name": "stdout",
          "text": [
            "Looking in indexes: https://pypi.org/simple, https://us-python.pkg.dev/colab-wheels/public/simple/\n",
            "Collecting google-currency\n",
            "  Downloading google_currency-1.0.10.tar.gz (5.8 kB)\n",
            "Requirement already satisfied: requests in /usr/local/lib/python3.7/dist-packages (from google-currency) (2.23.0)\n",
            "Requirement already satisfied: idna<3,>=2.5 in /usr/local/lib/python3.7/dist-packages (from requests->google-currency) (2.10)\n",
            "Requirement already satisfied: urllib3!=1.25.0,!=1.25.1,<1.26,>=1.21.1 in /usr/local/lib/python3.7/dist-packages (from requests->google-currency) (1.24.3)\n",
            "Requirement already satisfied: certifi>=2017.4.17 in /usr/local/lib/python3.7/dist-packages (from requests->google-currency) (2022.6.15)\n",
            "Requirement already satisfied: chardet<4,>=3.0.2 in /usr/local/lib/python3.7/dist-packages (from requests->google-currency) (3.0.4)\n",
            "Building wheels for collected packages: google-currency\n",
            "  Building wheel for google-currency (setup.py) ... \u001b[?25l\u001b[?25hdone\n",
            "  Created wheel for google-currency: filename=google_currency-1.0.10-py3-none-any.whl size=6084 sha256=3a60f299dee5b89044e6cdf091a01a93be002bb7e1f23c9a10ab1c9833cfc296\n",
            "  Stored in directory: /root/.cache/pip/wheels/27/9d/23/f66b6aaa487b0ac58ede75baa191ec536c212e0b6d0a5b2e92\n",
            "Successfully built google-currency\n",
            "Installing collected packages: google-currency\n",
            "Successfully installed google-currency-1.0.10\n"
          ]
        }
      ]
    },
    {
      "cell_type": "code",
      "metadata": {
        "id": "R-zI-XsaXLJ5"
      },
      "source": [
        "from google_currency import convert  "
      ],
      "execution_count": 17,
      "outputs": []
    },
    {
      "cell_type": "code",
      "metadata": {
        "id": "hRc6tENp7ajV",
        "outputId": "ddffd9ef-79ea-4843-abd9-cbea8cbdf08f",
        "colab": {
          "base_uri": "https://localhost:8080/",
          "height": 36
        }
      },
      "source": [
        "convert('USD', 'JPY', 230)"
      ],
      "execution_count": 18,
      "outputs": [
        {
          "output_type": "execute_result",
          "data": {
            "text/plain": [
              "'{\"from\": \"USD\", \"to\": \"JPY\", \"amount\": \"32950.49\", \"converted\": true}'"
            ],
            "application/vnd.google.colaboratory.intrinsic+json": {
              "type": "string"
            }
          },
          "metadata": {},
          "execution_count": 18
        }
      ]
    },
    {
      "cell_type": "code",
      "metadata": {
        "id": "hnWTHY6cX45U",
        "outputId": "af0da771-24b5-46ec-a656-b8939358edd8",
        "colab": {
          "base_uri": "https://localhost:8080/"
        }
      },
      "source": [
        "from google_currency import convert \n",
        "import json\n",
        "samount = 674 #@param {type:'integer'}\n",
        "damount = convert('USD', 'JPY', samount)\n",
        "retdict = json.loads(damount)\n",
        "print('{} 元美金 = 日幣 {} 元'.format(samount, retdict['amount']))"
      ],
      "execution_count": 19,
      "outputs": [
        {
          "output_type": "stream",
          "name": "stdout",
          "text": [
            "674 元美金 = 日幣 96559.26 元\n"
          ]
        }
      ]
    },
    {
      "cell_type": "markdown",
      "metadata": {
        "id": "WogUaexHeBcA"
      },
      "source": [
        "## twstock：台灣股票"
      ]
    },
    {
      "cell_type": "code",
      "metadata": {
        "id": "KWD8g27YeDtw",
        "outputId": "c292db06-b943-4be9-f607-549a8a3db10f",
        "colab": {
          "base_uri": "https://localhost:8080/"
        }
      },
      "source": [
        "!pip install twstock"
      ],
      "execution_count": 20,
      "outputs": [
        {
          "output_type": "stream",
          "name": "stdout",
          "text": [
            "Looking in indexes: https://pypi.org/simple, https://us-python.pkg.dev/colab-wheels/public/simple/\n",
            "Collecting twstock\n",
            "  Downloading twstock-1.3.1-py3-none-any.whl (1.9 MB)\n",
            "\u001b[K     |████████████████████████████████| 1.9 MB 4.2 MB/s \n",
            "\u001b[?25hRequirement already satisfied: requests in /usr/local/lib/python3.7/dist-packages (from twstock) (2.23.0)\n",
            "Requirement already satisfied: chardet<4,>=3.0.2 in /usr/local/lib/python3.7/dist-packages (from requests->twstock) (3.0.4)\n",
            "Requirement already satisfied: urllib3!=1.25.0,!=1.25.1,<1.26,>=1.21.1 in /usr/local/lib/python3.7/dist-packages (from requests->twstock) (1.24.3)\n",
            "Requirement already satisfied: certifi>=2017.4.17 in /usr/local/lib/python3.7/dist-packages (from requests->twstock) (2022.6.15)\n",
            "Requirement already satisfied: idna<3,>=2.5 in /usr/local/lib/python3.7/dist-packages (from requests->twstock) (2.10)\n",
            "Installing collected packages: twstock\n",
            "Successfully installed twstock-1.3.1\n"
          ]
        }
      ]
    },
    {
      "cell_type": "code",
      "metadata": {
        "id": "X13SQZa7e9IJ"
      },
      "source": [
        "import twstock"
      ],
      "execution_count": 21,
      "outputs": []
    },
    {
      "cell_type": "code",
      "metadata": {
        "id": "1UX-sIZOfBEO",
        "outputId": "2ef64543-f8a3-446e-db84-ac1253083f44",
        "colab": {
          "base_uri": "https://localhost:8080/"
        }
      },
      "source": [
        "stock = twstock.Stock('2317')\n",
        "print(stock.price)"
      ],
      "execution_count": 22,
      "outputs": [
        {
          "output_type": "stream",
          "name": "stdout",
          "text": [
            "[108.0, 108.0, 109.0, 110.0, 113.0, 112.5, 112.0, 111.0, 112.5, 112.0, 111.0, 111.0, 110.0, 109.5, 109.5, 110.5, 108.0, 108.5, 109.0, 107.5, 107.5, 108.0, 108.5, 106.0, 107.0, 108.5, 110.0, 107.5, 108.0, 107.5, 107.0]\n"
          ]
        }
      ]
    },
    {
      "cell_type": "code",
      "metadata": {
        "id": "r-tXBoi6X7sb",
        "outputId": "b032eb56-ad88-4a26-dbac-f42590fe6023",
        "colab": {
          "base_uri": "https://localhost:8080/"
        }
      },
      "source": [
        "print(\"日期：\",stock.date[-1])\n",
        "print(\"開盤價：\",stock.open[-1])\n",
        "print(\"最高價：\",stock.high[-1])\n",
        "print(\"最低價：\",stock.low[-1])\n",
        "print(\"收盤價：\",stock.price[-1])"
      ],
      "execution_count": 23,
      "outputs": [
        {
          "output_type": "stream",
          "name": "stdout",
          "text": [
            "日期： 2022-09-19 00:00:00\n",
            "開盤價： 107.5\n",
            "最高價： 108.0\n",
            "最低價： 106.5\n",
            "收盤價： 107.0\n"
          ]
        }
      ]
    },
    {
      "cell_type": "code",
      "metadata": {
        "id": "_Vd0yijw3r3l",
        "outputId": "cf02e950-349c-44ad-b7ab-25e59caf9b56",
        "colab": {
          "base_uri": "https://localhost:8080/"
        }
      },
      "source": [
        "stock.fetch(2022,9)"
      ],
      "execution_count": 24,
      "outputs": [
        {
          "output_type": "execute_result",
          "data": {
            "text/plain": [
              "[Data(date=datetime.datetime(2020, 1, 2, 0, 0), capacity=20758722, turnover=1886677519, open=91.0, high=91.5, low=90.3, close=90.8, change=0.0, transaction=9994),\n",
              " Data(date=datetime.datetime(2020, 1, 3, 0, 0), capacity=37936877, turnover=3471335594, open=91.4, high=92.2, low=90.8, close=91.6, change=0.8, transaction=16491),\n",
              " Data(date=datetime.datetime(2020, 1, 6, 0, 0), capacity=26352522, turnover=2388785688, open=91.1, high=91.1, low=90.1, close=90.5, change=-1.1, transaction=11872),\n",
              " Data(date=datetime.datetime(2020, 1, 7, 0, 0), capacity=43978140, turnover=3935667984, open=90.5, high=91.0, low=88.3, close=89.1, change=-1.4, transaction=21340),\n",
              " Data(date=datetime.datetime(2020, 1, 8, 0, 0), capacity=56101121, turnover=4891344755, open=87.9, high=88.1, low=86.5, close=86.5, change=-2.6, transaction=28087),\n",
              " Data(date=datetime.datetime(2020, 1, 9, 0, 0), capacity=28513381, turnover=2491571248, open=87.3, high=87.7, low=87.0, close=87.1, change=0.6, transaction=13485),\n",
              " Data(date=datetime.datetime(2020, 1, 10, 0, 0), capacity=32264863, turnover=2852056044, open=88.0, high=89.0, low=87.5, close=89.0, change=1.9, transaction=14951),\n",
              " Data(date=datetime.datetime(2020, 1, 13, 0, 0), capacity=23369554, turnover=2084580613, open=89.7, high=89.7, low=88.6, close=89.6, change=0.6, transaction=9793),\n",
              " Data(date=datetime.datetime(2020, 1, 14, 0, 0), capacity=19568838, turnover=1758920258, open=90.0, high=90.1, low=89.6, close=90.0, change=0.4, transaction=9250),\n",
              " Data(date=datetime.datetime(2020, 1, 15, 0, 0), capacity=23798041, turnover=2141165898, open=90.0, high=90.3, low=89.5, close=89.9, change=-0.1, transaction=9104),\n",
              " Data(date=datetime.datetime(2020, 1, 16, 0, 0), capacity=19281565, turnover=1734134777, open=89.8, high=90.2, low=89.4, close=90.0, change=0.1, transaction=6958),\n",
              " Data(date=datetime.datetime(2020, 1, 17, 0, 0), capacity=78180511, turnover=7195625358, open=91.0, high=92.4, low=91.0, close=92.3, change=2.3, transaction=33753),\n",
              " Data(date=datetime.datetime(2020, 1, 20, 0, 0), capacity=35277412, turnover=3266663404, open=92.7, high=93.4, low=92.1, close=92.3, change=0.0, transaction=14735),\n",
              " Data(date=datetime.datetime(2020, 1, 30, 0, 0), capacity=153655274, turnover=12913538375, open=85.5, high=86.2, low=83.1, close=83.1, change=-9.2, transaction=63060),\n",
              " Data(date=datetime.datetime(2020, 1, 31, 0, 0), capacity=69686948, turnover=5823335061, open=83.0, high=84.9, low=82.6, close=83.2, change=0.1, transaction=28528)]"
            ]
          },
          "metadata": {},
          "execution_count": 24
        }
      ]
    },
    {
      "cell_type": "code",
      "metadata": {
        "id": "eOr7pVbKAy46",
        "outputId": "abbb6d15-78c7-44ce-9ef9-446451cb6ee7",
        "colab": {
          "base_uri": "https://localhost:8080/"
        }
      },
      "source": [
        "stock.fetch_31()"
      ],
      "execution_count": 25,
      "outputs": [
        {
          "output_type": "execute_result",
          "data": {
            "text/plain": [
              "[Data(date=datetime.datetime(2022, 8, 5, 0, 0), capacity=25350396, turnover=2748564050, open=108.5, high=109.0, low=108.0, close=108.0, change=0.0, transaction=10246),\n",
              " Data(date=datetime.datetime(2022, 8, 8, 0, 0), capacity=23526674, turnover=2528924473, open=107.0, high=108.0, low=106.5, close=108.0, change=0.0, transaction=10035),\n",
              " Data(date=datetime.datetime(2022, 8, 9, 0, 0), capacity=25851764, turnover=2801896212, open=108.0, high=109.0, low=107.0, close=109.0, change=1.0, transaction=12052),\n",
              " Data(date=datetime.datetime(2022, 8, 10, 0, 0), capacity=56629249, turnover=6226414995, open=109.0, high=111.0, low=108.0, close=110.0, change=1.0, transaction=21011),\n",
              " Data(date=datetime.datetime(2022, 8, 11, 0, 0), capacity=62481183, turnover=7007322071, open=111.5, high=113.0, low=110.5, close=113.0, change=3.0, transaction=28607),\n",
              " Data(date=datetime.datetime(2022, 8, 12, 0, 0), capacity=48654945, turnover=5500411046, open=113.0, high=114.0, low=112.0, close=112.5, change=-0.5, transaction=21376),\n",
              " Data(date=datetime.datetime(2022, 8, 15, 0, 0), capacity=29468828, turnover=3304752550, open=113.0, high=113.0, low=111.5, close=112.0, change=-0.5, transaction=13776),\n",
              " Data(date=datetime.datetime(2022, 8, 16, 0, 0), capacity=28989314, turnover=3220129668, open=112.0, high=112.0, low=110.5, close=111.0, change=-1.0, transaction=15650),\n",
              " Data(date=datetime.datetime(2022, 8, 17, 0, 0), capacity=33849726, turnover=3787892860, open=111.0, high=112.5, low=111.0, close=112.5, change=1.5, transaction=15653),\n",
              " Data(date=datetime.datetime(2022, 8, 18, 0, 0), capacity=26002863, turnover=2903643194, open=112.5, high=112.5, low=111.0, close=112.0, change=-0.5, transaction=8565),\n",
              " Data(date=datetime.datetime(2022, 8, 19, 0, 0), capacity=17707131, turnover=1971372238, open=111.5, high=112.0, low=111.0, close=111.0, change=-1.0, transaction=6899),\n",
              " Data(date=datetime.datetime(2022, 8, 22, 0, 0), capacity=16613929, turnover=1834457540, open=110.5, high=111.0, low=110.0, close=111.0, change=0.0, transaction=7788),\n",
              " Data(date=datetime.datetime(2022, 8, 23, 0, 0), capacity=18158910, turnover=1998932319, open=110.0, high=110.5, low=109.5, close=110.0, change=-1.0, transaction=8259),\n",
              " Data(date=datetime.datetime(2022, 8, 24, 0, 0), capacity=24754117, turnover=2713269554, open=110.5, high=111.0, low=109.0, close=109.5, change=-0.5, transaction=13931),\n",
              " Data(date=datetime.datetime(2022, 8, 25, 0, 0), capacity=14187366, turnover=1558328414, open=109.5, high=110.5, low=109.5, close=109.5, change=0.0, transaction=7050),\n",
              " Data(date=datetime.datetime(2022, 8, 26, 0, 0), capacity=17147941, turnover=1886254324, open=110.0, high=110.5, low=109.5, close=110.5, change=1.0, transaction=7974),\n",
              " Data(date=datetime.datetime(2022, 8, 29, 0, 0), capacity=27166245, turnover=2941811595, open=108.5, high=109.0, low=108.0, close=108.0, change=-2.5, transaction=15622),\n",
              " Data(date=datetime.datetime(2022, 8, 30, 0, 0), capacity=21904735, turnover=2374080779, open=108.5, high=109.0, low=108.0, close=108.5, change=0.5, transaction=9238),\n",
              " Data(date=datetime.datetime(2022, 8, 31, 0, 0), capacity=29733770, turnover=3228381242, open=108.0, high=109.5, low=107.5, close=109.0, change=0.5, transaction=11975),\n",
              " Data(date=datetime.datetime(2022, 9, 1, 0, 0), capacity=37780861, turnover=4063042055, open=108.0, high=108.5, low=107.0, close=107.5, change=-1.5, transaction=18455),\n",
              " Data(date=datetime.datetime(2022, 9, 2, 0, 0), capacity=17178614, turnover=1848950477, open=108.0, high=108.0, low=107.0, close=107.5, change=0.0, transaction=7327),\n",
              " Data(date=datetime.datetime(2022, 9, 5, 0, 0), capacity=23510808, turnover=2538564619, open=108.0, high=108.5, low=107.5, close=108.0, change=0.5, transaction=6211),\n",
              " Data(date=datetime.datetime(2022, 9, 6, 0, 0), capacity=16470152, turnover=1779506758, open=108.5, high=108.5, low=107.5, close=108.5, change=0.5, transaction=8119),\n",
              " Data(date=datetime.datetime(2022, 9, 7, 0, 0), capacity=32007211, turnover=3421330308, open=107.5, high=108.0, low=106.0, close=106.0, change=-2.5, transaction=18264),\n",
              " Data(date=datetime.datetime(2022, 9, 8, 0, 0), capacity=15510168, turnover=1656117929, open=107.0, high=107.0, low=106.0, close=107.0, change=1.0, transaction=6785),\n",
              " Data(date=datetime.datetime(2022, 9, 12, 0, 0), capacity=18494607, turnover=2002065443, open=108.5, high=109.0, low=107.5, close=108.5, change=1.5, transaction=8219),\n",
              " Data(date=datetime.datetime(2022, 9, 13, 0, 0), capacity=32868739, turnover=3602070045, open=109.0, high=110.5, low=108.5, close=110.0, change=1.5, transaction=12365),\n",
              " Data(date=datetime.datetime(2022, 9, 14, 0, 0), capacity=26601015, turnover=2865653445, open=107.5, high=108.5, low=107.0, close=107.5, change=-2.5, transaction=12413),\n",
              " Data(date=datetime.datetime(2022, 9, 15, 0, 0), capacity=17777392, turnover=1921785611, open=107.5, high=108.5, low=107.5, close=108.0, change=0.5, transaction=6869),\n",
              " Data(date=datetime.datetime(2022, 9, 16, 0, 0), capacity=37358400, turnover=4010943876, open=107.5, high=108.0, low=107.0, close=107.5, change=-0.5, transaction=10689),\n",
              " Data(date=datetime.datetime(2022, 9, 19, 0, 0), capacity=17257682, turnover=1845794832, open=107.5, high=108.0, low=106.5, close=107.0, change=-0.5, transaction=7763)]"
            ]
          },
          "metadata": {},
          "execution_count": 25
        }
      ]
    },
    {
      "cell_type": "code",
      "metadata": {
        "id": "EDSHNmI-CEht"
      },
      "source": [
        "stock.fetch_from(2022,9)"
      ],
      "execution_count": null,
      "outputs": []
    },
    {
      "cell_type": "code",
      "metadata": {
        "id": "V41mq9_WId03",
        "outputId": "fe48e028-ae55-4148-99a0-c2140b983418",
        "colab": {
          "base_uri": "https://localhost:8080/"
        }
      },
      "source": [
        "real = twstock.realtime.get('2317')\n",
        "print(real)"
      ],
      "execution_count": 28,
      "outputs": [
        {
          "output_type": "stream",
          "name": "stdout",
          "text": [
            "{'timestamp': 1663569000.0, 'info': {'code': '2317', 'channel': '2317.tw', 'name': '鴻海', 'fullname': '鴻海精密工業股份有限公司', 'time': '2022-09-19 06:30:00'}, 'realtime': {'latest_trade_price': '107.0000', 'trade_volume': '2776', 'accumulate_trade_volume': '17071', 'best_bid_price': ['107.0000', '106.5000', '106.0000', '105.5000', '105.0000'], 'best_bid_volume': ['471', '3257', '5289', '1413', '2281'], 'best_ask_price': ['107.5000', '108.0000', '108.5000', '109.0000', '109.5000'], 'best_ask_volume': ['2087', '2498', '1959', '1819', '1088'], 'open': '107.5000', 'high': '108.0000', 'low': '106.5000'}, 'success': True}\n"
          ]
        }
      ]
    },
    {
      "cell_type": "code",
      "metadata": {
        "id": "Unm4jm9TqRJY",
        "outputId": "e100e2f0-65f8-467e-96df-824834a0701f",
        "colab": {
          "base_uri": "https://localhost:8080/"
        }
      },
      "source": [
        "if real['success']:\n",
        "    print('股票名稱、即時股票資料：')\n",
        "    print('股票名稱：',real['info']['name'])     \n",
        "    print('開盤價：',real['realtime']['open'])\n",
        "    print('最高價：',real['realtime']['high'])  \n",
        "    print('最低價：',real['realtime']['low'])\n",
        "    print('目前股價：',real['realtime']['latest_trade_price'])   \n",
        "else:\n",
        "    print('錯誤：' + real['rtmessage'])  "
      ],
      "execution_count": 29,
      "outputs": [
        {
          "output_type": "stream",
          "name": "stdout",
          "text": [
            "股票名稱、即時股票資料：\n",
            "股票名稱： 鴻海\n",
            "開盤價： 107.5000\n",
            "最高價： 108.0000\n",
            "最低價： 106.5000\n",
            "目前股價： 107.0000\n"
          ]
        }
      ]
    },
    {
      "cell_type": "code",
      "metadata": {
        "id": "JKKimeFhmyDA"
      },
      "source": [
        "import requests\n",
        "\n",
        "msg = '這是 LINE Notify 發送的訊息。'\n",
        "token = '你的 LINE Notify 權杖'  #權杖\n",
        "headers = {\n",
        "    \"Authorization\": \"Bearer \" + token, \n",
        "    \"Content-Type\" : \"application/x-www-form-urlencoded\"\n",
        "}\n",
        "payload = {'message': msg}\n",
        "notify = requests.post(\"https://notify-api.line.me/api/notify\", headers = headers, params = payload)\n",
        "if notify.status_code == 200:\n",
        "    print('發送 LINE Notify 成功！')\n",
        "else:\n",
        "    print('發送 LINE Notify 失敗！')"
      ],
      "execution_count": null,
      "outputs": []
    },
    {
      "cell_type": "markdown",
      "metadata": {
        "id": "KyL3ql_vQThF"
      },
      "source": [
        "## 應用：使用LINE監控即時股價"
      ]
    },
    {
      "cell_type": "code",
      "metadata": {
        "id": "GuXzfLiSQdqL"
      },
      "source": [
        "import twstock\n",
        "import time\n",
        "import requests\n",
        "\n",
        "def lineNotify(token, msg):\n",
        "    headers = {\n",
        "        \"Authorization\": \"Bearer \" + token, \n",
        "        \"Content-Type\" : \"application/x-www-form-urlencoded\"\n",
        "    }\n",
        "\n",
        "    payload = {'message': msg}\n",
        "    notify = requests.post(\"https://notify-api.line.me/api/notify\", headers = headers, params = payload)\n",
        "    return notify.status_code\n",
        "\n",
        "def sendline(mode, realprice, counterLine, token):\n",
        "    print('鴻海目前股價：' + str(realprice))\n",
        "    if mode == 1:\n",
        "        message = '現在鴻海股價為 ' + str(realprice) + '元，可以賣出股票了！'\n",
        "    else:\n",
        "        message = '現在鴻海股價為 ' + str(realprice) + '元，可以買入股票了！'\n",
        "    code = lineNotify(token, message)\n",
        "    if code == 200:\n",
        "        counterLine = counterLine + 1\n",
        "        print('第 ' + str(counterLine) + ' 次發送 LINE 訊息。')\n",
        "    else:\n",
        "        print('發送 LINE 訊息失敗！')\n",
        "    return counterLine\n",
        "\n",
        "token = '你的 LINE Notify 權杖'  #權杖\n",
        "counterLine = 0  #儲存發送次數\n",
        "counterError = 0  #儲存錯誤次數\n",
        "\n",
        "print('程式開始執行！')\n",
        "while True:\n",
        "    realdata = twstock.realtime.get('2317')  #即時資料\n",
        "    if realdata['success']:\n",
        "        realprice = realdata['realtime']['latest_trade_price']  #目前股價\n",
        "        if realprice != '-':\n",
        "          if float(realprice) >= 40:\n",
        "              counterLine = sendline(1, realprice, counterLine, token)\n",
        "          elif float(realprice) <= 20:\n",
        "              counterLine = sendline(2, realprice, counterLine, token)\n",
        "          if counterLine >= 3:  #最多發送3次就結束程式\n",
        "              print('程式結束！')\n",
        "              break\n",
        "    else:\n",
        "        print('twstock 讀取錯誤，錯誤原因：' + realdata['rtmessage'])\n",
        "        counterError = counterError + 1\n",
        "        if counterError >= 3:  #最多錯誤3次\n",
        "            print('程式結束！')\n",
        "            break\n",
        "    for i in range(300):  #每5分鐘讀一次\n",
        "        time.sleep(1)       "
      ],
      "execution_count": null,
      "outputs": []
    },
    {
      "cell_type": "markdown",
      "metadata": {
        "id": "zkMZH4ZszFEI"
      },
      "source": [
        "## TWCB：中央銀行資料庫"
      ]
    },
    {
      "cell_type": "code",
      "metadata": {
        "id": "qaemP00dxlxi",
        "outputId": "a34bd478-baaf-4bdb-9a78-51015db04fbd",
        "colab": {
          "base_uri": "https://localhost:8080/",
          "height": 784
        }
      },
      "source": [
        "!pip install TWCB"
      ],
      "execution_count": 31,
      "outputs": [
        {
          "output_type": "stream",
          "name": "stdout",
          "text": [
            "Looking in indexes: https://pypi.org/simple, https://us-python.pkg.dev/colab-wheels/public/simple/\n",
            "Collecting TWCB\n",
            "  Downloading TWCB-0.1.2.tar.gz (4.5 kB)\n",
            "Requirement already satisfied: pandas>=0.25.3 in /usr/local/lib/python3.7/dist-packages (from TWCB) (1.3.5)\n",
            "Collecting urllib3>=1.25.8\n",
            "  Downloading urllib3-1.26.12-py2.py3-none-any.whl (140 kB)\n",
            "\u001b[K     |████████████████████████████████| 140 kB 4.1 MB/s \n",
            "\u001b[?25hRequirement already satisfied: requests>=2.22.0 in /usr/local/lib/python3.7/dist-packages (from TWCB) (2.23.0)\n",
            "Collecting beautifulsoup4>=4.9.1\n",
            "  Downloading beautifulsoup4-4.11.1-py3-none-any.whl (128 kB)\n",
            "\u001b[K     |████████████████████████████████| 128 kB 51.1 MB/s \n",
            "\u001b[?25hCollecting soupsieve>1.2\n",
            "  Downloading soupsieve-2.3.2.post1-py3-none-any.whl (37 kB)\n",
            "Requirement already satisfied: pytz>=2017.3 in /usr/local/lib/python3.7/dist-packages (from pandas>=0.25.3->TWCB) (2022.2.1)\n",
            "Requirement already satisfied: python-dateutil>=2.7.3 in /usr/local/lib/python3.7/dist-packages (from pandas>=0.25.3->TWCB) (2.8.2)\n",
            "Requirement already satisfied: numpy>=1.17.3 in /usr/local/lib/python3.7/dist-packages (from pandas>=0.25.3->TWCB) (1.21.6)\n",
            "Requirement already satisfied: six>=1.5 in /usr/local/lib/python3.7/dist-packages (from python-dateutil>=2.7.3->pandas>=0.25.3->TWCB) (1.15.0)\n",
            "Requirement already satisfied: idna<3,>=2.5 in /usr/local/lib/python3.7/dist-packages (from requests>=2.22.0->TWCB) (2.10)\n",
            "Collecting urllib3>=1.25.8\n",
            "  Downloading urllib3-1.25.11-py2.py3-none-any.whl (127 kB)\n",
            "\u001b[K     |████████████████████████████████| 127 kB 59.3 MB/s \n",
            "\u001b[?25hRequirement already satisfied: certifi>=2017.4.17 in /usr/local/lib/python3.7/dist-packages (from requests>=2.22.0->TWCB) (2022.6.15)\n",
            "Requirement already satisfied: chardet<4,>=3.0.2 in /usr/local/lib/python3.7/dist-packages (from requests>=2.22.0->TWCB) (3.0.4)\n",
            "Building wheels for collected packages: TWCB\n",
            "  Building wheel for TWCB (setup.py) ... \u001b[?25l\u001b[?25hdone\n",
            "  Created wheel for TWCB: filename=TWCB-0.1.2-py3-none-any.whl size=6910 sha256=9493c116fc46586fa349afa52cb2f9c57f6a9682c42a9a3a7180769c2d12d278\n",
            "  Stored in directory: /root/.cache/pip/wheels/a2/f6/53/467d7b7bd1a04dc54dafc6b41d2328f7f2231bf70ed24742dc\n",
            "Successfully built TWCB\n",
            "Installing collected packages: urllib3, soupsieve, beautifulsoup4, TWCB\n",
            "  Attempting uninstall: urllib3\n",
            "    Found existing installation: urllib3 1.24.3\n",
            "    Uninstalling urllib3-1.24.3:\n",
            "      Successfully uninstalled urllib3-1.24.3\n",
            "  Attempting uninstall: beautifulsoup4\n",
            "    Found existing installation: beautifulsoup4 4.6.3\n",
            "    Uninstalling beautifulsoup4-4.6.3:\n",
            "      Successfully uninstalled beautifulsoup4-4.6.3\n",
            "Successfully installed TWCB-0.1.2 beautifulsoup4-4.11.1 soupsieve-2.3.2.post1 urllib3-1.25.11\n"
          ]
        },
        {
          "output_type": "display_data",
          "data": {
            "application/vnd.colab-display-data+json": {
              "pip_warning": {
                "packages": [
                  "urllib3"
                ]
              }
            }
          },
          "metadata": {}
        }
      ]
    },
    {
      "cell_type": "code",
      "metadata": {
        "id": "A1CM5yzDxl4A"
      },
      "source": [
        "import TWCB"
      ],
      "execution_count": 32,
      "outputs": []
    },
    {
      "cell_type": "code",
      "metadata": {
        "id": "hDbiVdFr4FDX",
        "outputId": "72e42e7c-d9fd-437f-f8f5-7ac0cf660da6",
        "colab": {
          "base_uri": "https://localhost:8080/"
        }
      },
      "source": [
        "print(TWCB.get_info())"
      ],
      "execution_count": 33,
      "outputs": [
        {
          "output_type": "stream",
          "name": "stdout",
          "text": [
            "                                 tb_name        code\n",
            "0          中央銀行統計資料庫_我國與主要貿易對手通貨對美元之匯率_日  BP01D01.px\n",
            "1          中央銀行統計資料庫_我國與主要貿易對手通貨對美元之匯率_月  BP01M01.px\n",
            "2          中央銀行統計資料庫_我國與主要貿易對手通貨對美元之匯率_年  BP01Y01.px\n",
            "3           中央銀行統計資料庫_金融統計月報_重要金融指標_貨幣_年  EF01Y01.px\n",
            "4           中央銀行統計資料庫_金融統計月報_重要金融指標_貨幣_月  EF01M01.px\n",
            "..                                   ...         ...\n",
            "192    中央銀行統計資料庫_國際收支與國際投資部位_國際收支_所有項目_年  BPP2Y01.px\n",
            "193    中央銀行統計資料庫_國際收支與國際投資部位_國際收支_所有項目_季  BPP2Q01.px\n",
            "194  中央銀行統計資料庫_國際收支與國際投資部位_國際投資部位_所有項目_年  BPF4Y01.px\n",
            "195              中央銀行統計資料庫_資金流量統計_資金流量_年  FL01_cn.px\n",
            "196         中央銀行統計資料庫_資金流量統計_金融性資產負債餘額_年  FL02_cn.px\n",
            "\n",
            "[197 rows x 2 columns]\n"
          ]
        }
      ]
    },
    {
      "cell_type": "code",
      "metadata": {
        "id": "WkcPlpuQzgix",
        "outputId": "c3f6c246-62b5-4d64-babc-8419bb20c170",
        "colab": {
          "base_uri": "https://localhost:8080/"
        }
      },
      "source": [
        "df1 = TWCB.get('BP01D01.px')\n",
        "print(df1)"
      ],
      "execution_count": 34,
      "outputs": [
        {
          "output_type": "stream",
          "name": "stdout",
          "text": [
            "Start to process the BP01D01.px\n",
            "          date 新台幣NTD/USD 日圓JPY/USD 英鎊USD/GBP 港幣HKD/USD 韓元KRW/USD 加拿大幣CAD/USD  \\\n",
            "0     19930105     25.405    125.25    1.5499    7.7427     788.2      1.2766   \n",
            "1     19930106     25.427    124.84    1.5423    7.7415     790.3      1.2794   \n",
            "2     19930107     25.411    125.09    1.5309    7.7427     791.1      1.2800   \n",
            "3     19930108     25.423    125.42    1.5314    7.7430     791.9      1.2826   \n",
            "4     19930111     25.450    125.36    1.5516    7.7420     792.5      1.2780   \n",
            "...        ...        ...       ...       ...       ...       ...         ...   \n",
            "7378  20220825     30.194    136.48    1.1842    7.8458    1335.2      1.2907   \n",
            "7379  20220826     30.218    137.02    1.1794    7.8467    1331.3      1.2947   \n",
            "7380  20220829     30.396    138.70    1.1673    7.8486    1350.4      1.3067   \n",
            "7381  20220830     30.468    138.46    1.1737    7.8480    1346.7      1.2989   \n",
            "7382  20220831     30.435    138.60    1.1643    7.8479    1337.6      1.3090   \n",
            "\n",
            "     新加坡元SGD/USD 人民幣CNY/USD 澳幣USD/AUD 印尼盾IDR/USD 泰銖THB/USD 馬來西亞幣MYR/USD  \\\n",
            "0         1.6560     7.7200    0.6732     2048.0    25.550       2.5908   \n",
            "1         1.6530     7.7200    0.6687     2048.0    25.510       2.5930   \n",
            "2         1.6588     7.7450    0.6709     2049.0    25.540       2.5955   \n",
            "3         1.6620     7.7450    0.6727     2049.0    25.550       2.5970   \n",
            "4         1.6602     7.7150    0.6736     2050.0    25.540       2.5945   \n",
            "...          ...        ...       ...        ...       ...          ...   \n",
            "7378      1.3899     6.8503    0.6980    14822.5    35.870       4.4730   \n",
            "7379      1.3913     6.8621    0.6961    14817.5    36.010       4.4745   \n",
            "7380      1.3989     6.9210    0.6856    14897.0    36.435       4.4900   \n",
            "7381      1.3960     6.8980    0.6926    14842.5    36.405       4.4815   \n",
            "7382      1.3978     6.8905    0.6880    14842.5    36.465       4.4755   \n",
            "\n",
            "      菲律賓披索PHP/USD 歐元USD/EUR 馬克DEM/USD 法國法郎FRF/USD 荷蘭幣NLG/USD 越南盾VND/USD  \n",
            "0                -         -    1.6255      5.5425     1.8258          -  \n",
            "1                -         -    1.6350      5.5665     1.8360          -  \n",
            "2                -         -    1.6380      5.5670     1.8415          -  \n",
            "3                -         -    1.6475      5.6050     1.8515          -  \n",
            "4                -         -    1.6340      5.5245     1.8375          -  \n",
            "...            ...       ...       ...         ...        ...        ...  \n",
            "7378        56.055    0.9999         -           -          -    23415.0  \n",
            "7379        56.025    0.9974         -           -          -    23418.0  \n",
            "7380        56.210    0.9943         -           -          -    23422.0  \n",
            "7381        56.215    1.0029         -           -          -    23418.0  \n",
            "7382        56.145    1.0002         -           -          -    23460.0  \n",
            "\n",
            "[7383 rows x 19 columns]\n"
          ]
        }
      ]
    },
    {
      "cell_type": "code",
      "metadata": {
        "id": "pQIw5xvV_yWR"
      },
      "source": [
        "df1.to_csv('匯率日報表.csv')"
      ],
      "execution_count": 35,
      "outputs": []
    },
    {
      "cell_type": "code",
      "metadata": {
        "id": "LkckwbHs3hgN",
        "outputId": "ea5639d3-7b95-4b85-9e00-3115bc04bdce",
        "colab": {
          "base_uri": "https://localhost:8080/"
        }
      },
      "source": [
        "data_list = TWCB.get_by_search('美元之匯率')"
      ],
      "execution_count": 36,
      "outputs": [
        {
          "output_type": "stream",
          "name": "stdout",
          "text": [
            "In the table name 中央銀行統計資料庫_我國與主要貿易對手通貨對美元之匯率_日 with code BP01D01.px\n",
            "In the table name 中央銀行統計資料庫_我國與主要貿易對手通貨對美元之匯率_月 with code BP01M01.px\n",
            "In the table name 中央銀行統計資料庫_我國與主要貿易對手通貨對美元之匯率_年 with code BP01Y01.px\n",
            "Start to process the BP01D01.px\n",
            "Start to process the BP01M01.px\n",
            "Start to process the BP01Y01.px\n"
          ]
        }
      ]
    },
    {
      "cell_type": "code",
      "metadata": {
        "id": "Vd03YKzN5cgV",
        "outputId": "4d2f5bf6-08d1-487a-81ca-1f7d8e18282f",
        "colab": {
          "base_uri": "https://localhost:8080/"
        }
      },
      "source": [
        "TWCB.get_all()"
      ],
      "execution_count": 37,
      "outputs": [
        {
          "output_type": "stream",
          "name": "stdout",
          "text": [
            "Start to process the BP01D01.px\n",
            "Start to process the BP01M01.px\n",
            "Start to process the BP01Y01.px\n",
            "Start to process the EF01Y01.px\n",
            "Start to process the EF01M01.px\n",
            "Start to process the EF03Y01.px\n",
            "Start to process the EF03M01.px\n",
            "Start to process the EFA4Y01.px\n",
            "Start to process the EFA4M01.px\n",
            "Start to process the EF05Y01.px\n",
            "Start to process the EF05M01.px\n",
            "Start to process the EF07Y01.px\n",
            "Start to process the EF07M01.px\n",
            "Start to process the EF10M01.px\n",
            "Start to process the EF11Y01.px\n",
            "Start to process the EF11M01.px\n",
            "Start to process the EF12Y01.px\n",
            "Start to process the EF12M01.px\n",
            "Start to process the EF13Y01.px\n",
            "Start to process the EF13M01.px\n",
            "Start to process the EF15Y01.px\n",
            "Start to process the EF15M01.px\n",
            "Start to process the EF17Y01.px\n",
            "Start to process the EF17M01.px\n",
            "Start to process the EF19Y01.px\n",
            "Start to process the EF19M01.px\n",
            "Start to process the EF21Y01.px\n",
            "Start to process the EF21M01.px\n",
            "Start to process the EF71D01.px\n",
            "Start to process the EF72Y01.px\n",
            "Start to process the EF72M01.px\n",
            "Start to process the EF73Y01.px\n",
            "Start to process the EF73M01.px\n",
            "Start to process the EFA1Y01.px\n",
            "Start to process the EFA1M01.px\n",
            "Start to process the EF39Y01.px\n",
            "Start to process the EF39M01.px\n",
            "Start to process the EF41Y01.px\n",
            "Start to process the EF41M01.px\n",
            "Start to process the EF35Y01.px\n",
            "Start to process the EF35M01.px\n",
            "Start to process the EF37Y01.px\n",
            "Start to process the EF37M01.px\n",
            "Start to process the EF23Y01.px\n",
            "Start to process the EF23M01.px\n",
            "Start to process the EF25Y01.px\n",
            "Start to process the EF25M01.px\n",
            "Start to process the EF27Y01.px\n",
            "Start to process the EF27M01.px\n",
            "Start to process the EF29Y01.px\n",
            "Start to process the EF29M01.px\n",
            "Start to process the EF43Y01.px\n",
            "Start to process the EF43M01.px\n",
            "Start to process the EF45Y01.px\n",
            "Start to process the EF45M01.px\n",
            "Start to process the EF47Y01.px\n",
            "Start to process the EF47M01.px\n",
            "Start to process the EF49Y01.px\n",
            "Start to process the EF49M01.px\n",
            "Start to process the EF55Y01.px\n",
            "Start to process the EF55M01.px\n",
            "Start to process the EF57Y01.px\n",
            "Start to process the EF57M01.px\n",
            "Start to process the EF59Y01.px\n",
            "Start to process the EF59M01.px\n",
            "Start to process the EF61Y01.px\n",
            "Start to process the EF61M01.px\n",
            "Start to process the EF63Y01.px\n",
            "Start to process the EF63M01.px\n",
            "Start to process the EF64Y01.px\n",
            "Start to process the EF64M01.px\n",
            "Start to process the EG65Y01.px\n",
            "Start to process the EG65M01.px\n",
            "Start to process the EF65Y01.px\n",
            "Start to process the EF65M01.px\n",
            "Start to process the EF67Y01.px\n",
            "Start to process the EF67M01.px\n",
            "Start to process the EG05Y01.px\n",
            "Start to process the EG05M01.px\n",
            "Start to process the EG03Y01.px\n",
            "Start to process the EG03M01.px\n",
            "Start to process the EG07Y01.px\n",
            "Start to process the EG07M01.px\n",
            "Start to process the EGA9Y01.px\n",
            "Start to process the EGA9M01.px\n",
            "Start to process the EGA7M01.px\n",
            "Start to process the EGC7Q01.px\n",
            "Start to process the EI75Y01.px\n",
            "Start to process the EI75M01.px\n",
            "Start to process the EI77Y01.px\n",
            "Start to process the EI77M01.px\n",
            "Start to process the EI79Y01.px\n",
            "Start to process the EI79M01.px\n",
            "Start to process the EI80M01.px\n",
            "Start to process the EI81M01.px\n",
            "Start to process the EIA1M01.px\n",
            "Start to process the EI82M01.px\n",
            "Start to process the EI83M01.px\n",
            "Start to process the EI84M01.px\n",
            "Start to process the EI85Y01.px\n",
            "Start to process the EI85M01.px\n",
            "Start to process the EI86Y01.px\n",
            "Start to process the EI86M01.px\n",
            "Start to process the EI87Y01.px\n",
            "Start to process the EI87M01.px\n",
            "Start to process the EI97Y01.px\n",
            "Start to process the EI97M01.px\n",
            "Start to process the EI98Y01.px\n",
            "Start to process the EI98M01.px\n",
            "Start to process the E95GY01.px\n",
            "Start to process the E95GM01.px\n",
            "Start to process the EF99Y01.px\n",
            "Start to process the EF99M01.px\n",
            "Start to process the EG01Y01.px\n",
            "Start to process the EG01M01.px\n",
            "Start to process the EG11Y01.px\n",
            "Start to process the EG11M01.px\n",
            "Start to process the EG11D01.px\n",
            "Start to process the EG13Y01.px\n",
            "Start to process the EG13M01.px\n",
            "Start to process the EG13D01.px\n",
            "Start to process the EG15Y01.px\n",
            "Start to process the EG15M01.px\n",
            "Start to process the EG15D01.px\n",
            "Start to process the EG16Y01.px\n",
            "Start to process the EG16M01.px\n",
            "Start to process the EG16D01.px\n",
            "Start to process the EG17Y01.px\n",
            "Start to process the EG17M01.px\n",
            "Start to process the EG19Y01.px\n",
            "Start to process the EG19M01.px\n",
            "Start to process the EG21Y01.px\n",
            "Start to process the EG21M01.px\n",
            "Start to process the EG23Y01.px\n",
            "Start to process the EG23M01.px\n",
            "Start to process the EGA4Y01.px\n",
            "Start to process the EGA4M01.px\n",
            "Start to process the EGB4Y01.px\n",
            "Start to process the EGB4M01.px\n",
            "Start to process the EG25Y01.px\n",
            "Start to process the EG25M01.px\n",
            "Start to process the EG27Y01.px\n",
            "Start to process the EG27M01.px\n",
            "Start to process the EG2AY01.px\n",
            "Start to process the EG2AM01.px\n",
            "Start to process the EG28D01.px\n",
            "Start to process the EG2BY01.px\n",
            "Start to process the EG2BM01.px\n",
            "Start to process the EG2WM01.px\n",
            "Start to process the EG30D01.px\n",
            "Start to process the EG39Y01.px\n",
            "Start to process the EG39Q01.px\n",
            "Start to process the EH45Y01.px\n",
            "Start to process the EH45M01.px\n",
            "Start to process the EG37Y01.px\n",
            "Start to process the EG37M01.px\n",
            "Start to process the EG37D01.px\n",
            "Start to process the EG41Y01.px\n",
            "Start to process the EG41M01.px\n",
            "Start to process the EG43Y01.px\n",
            "Start to process the EG43M01.px\n",
            "Start to process the EG45M01.px\n",
            "Start to process the EG46Y01.px\n",
            "Start to process the EG46M01.px\n",
            "Start to process the EG47Y01.px\n",
            "Start to process the EG47M01.px\n",
            "Start to process the EG49Y01.px\n",
            "Start to process the EG49M01.px\n",
            "Start to process the EG4ZD01.px\n",
            "Start to process the EG51M01.px\n",
            "Start to process the EG51D01.px\n",
            "Start to process the EG52M01.px\n",
            "Start to process the EG55Y01.px\n",
            "Start to process the EG55M01.px\n",
            "Start to process the EG55D01.px\n",
            "Start to process the EF09Y01.px\n",
            "Start to process the EF09M01.px\n",
            "Start to process the EG60Y01.px\n",
            "Start to process the EG60M01.px\n",
            "Start to process the EG60D01.px\n",
            "Start to process the EF70Y01.px\n",
            "Start to process the EF70M01.px\n",
            "Start to process the EG77Y01.px\n",
            "Start to process the EG77M01.px\n",
            "Start to process the EF69Y01.px\n",
            "Start to process the EF69M01.px\n",
            "Start to process the EG02Y01.px\n",
            "Start to process the EG02M01.px\n",
            "Start to process the EG75Y01.px\n",
            "Start to process the EG75M01.px\n",
            "Start to process the EG73Y01.px\n",
            "Start to process the EG73M01.px\n",
            "Start to process the BPP2Y01.px\n",
            "Start to process the BPP2Q01.px\n",
            "Start to process the BPF4Y01.px\n",
            "Start to process the FL01_cn.px\n",
            "Start to process the FL02_cn.px\n"
          ]
        }
      ]
    },
    {
      "cell_type": "code",
      "metadata": {
        "id": "OZKjmWaE32rN"
      },
      "source": [
        "import json\n",
        "import pandas as pd\n",
        "import os\n",
        "with open('download_TWCB.json','r',encoding='utf-8') as f:\n",
        "    test_data = json.load(f)\n",
        "if not os.path.isdir('twcb'):\n",
        "    os.mkdir('twcb')\n",
        "for key in test_data.keys():\n",
        "    data = pd.read_json(test_data[key])\n",
        "    data.to_csv('twcb/' + key + '.csv')"
      ],
      "execution_count": 38,
      "outputs": []
    }
  ]
}