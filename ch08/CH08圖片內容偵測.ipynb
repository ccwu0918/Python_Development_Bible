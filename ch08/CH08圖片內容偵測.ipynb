{
  "nbformat": 4,
  "nbformat_minor": 0,
  "metadata": {
    "colab": {
      "name": "CH08圖片內容偵測.ipynb",
      "provenance": [],
      "collapsed_sections": []
    },
    "kernelspec": {
      "display_name": "Python 3",
      "name": "python3"
    }
  },
  "cells": [
    {
      "cell_type": "markdown",
      "metadata": {
        "id": "sHgjuSKG4PXE"
      },
      "source": [
        "## ImageAI：物體偵測"
      ]
    },
    {
      "cell_type": "code",
      "metadata": {
        "id": "WIaVnCQbO-lm"
      },
      "source": [
        "!pip install imageai"
      ],
      "execution_count": null,
      "outputs": []
    },
    {
      "cell_type": "code",
      "metadata": {
        "id": "OePnJtxGl8cL"
      },
      "source": [
        "!wget -O yolo.h5 https://github.com/OlafenwaMoses/ImageAI/releases/download/1.0/yolo.h5\n",
        "!wget -O resnet50_imagenet_tf.2.0.h5 https://github.com/OlafenwaMoses/ImageAI/releases/download/1.0/resnet50_imagenet_tf.2.0.h5"
      ],
      "execution_count": null,
      "outputs": []
    },
    {
      "cell_type": "code",
      "metadata": {
        "id": "FyyxCq2J5xh0"
      },
      "source": [
        "from imageai.Detection import ObjectDetection\n",
        "detector = ObjectDetection()\n",
        "detector.setModelTypeAsYOLOv3()\n",
        "detector.setModelPath(\"yolo.h5\")\n",
        "detector.loadModel()\n",
        "detections = detector.detectObjectsFromImage(\n",
        "    input_image=\"img3.jpg\", \n",
        "    output_image_path=\"detect.jpg\", \n",
        "    minimum_percentage_probability=30)\n",
        "#print(detections)\n",
        "\n",
        "for eachObject in detections:\n",
        "    print(\"{} ： {} ： {}\".format(eachObject[\"name\"], eachObject[\"percentage_probability\"], eachObject[\"box_points\"]))"
      ],
      "execution_count": null,
      "outputs": []
    },
    {
      "cell_type": "code",
      "metadata": {
        "id": "UtW-3RXq9xZ0"
      },
      "source": [
        "from imageai.Detection import VideoObjectDetection\n",
        "detector = VideoObjectDetection()\n",
        "detector.setModelTypeAsYOLOv3()\n",
        "detector.setModelPath(\"yolo.h5\")\n",
        "detector.loadModel()\n",
        "detector.detectObjectsFromVideo(\n",
        "    input_file_path=\"traffic-mini.mp4\",\n",
        "    output_file_path= \"traffic_detected\",\n",
        "    frames_per_second=20, \n",
        "    log_progress=True)"
      ],
      "execution_count": null,
      "outputs": []
    },
    {
      "cell_type": "code",
      "metadata": {
        "id": "S8YmSFcpE60B"
      },
      "source": [
        "from imageai.Prediction import ImagePrediction\n",
        "prediction = ImagePrediction()\n",
        "prediction.setModelTypeAsResNet()\n",
        "prediction.setModelPath(\"resnet50_imagenet_tf.2.0.h5\")\n",
        "prediction.loadModel()\n",
        "predictions, probabilities = prediction.predictImage(\"img3.jpg\")\n",
        "# predictions, probabilities = prediction.predictImage(\"img3.jpg\", result_count=10 )\n",
        "# print(predictions)\n",
        "# print(probabilities)\n",
        "for i in range(len(predictions)):\n",
        "  print('{} ： {}'.format(predictions[i], probabilities[i]))"
      ],
      "execution_count": null,
      "outputs": []
    },
    {
      "cell_type": "markdown",
      "metadata": {
        "id": "btElVPXDBPHX"
      },
      "source": [
        "## pyocr：簡單易用OCR"
      ]
    },
    {
      "cell_type": "code",
      "metadata": {
        "id": "z09RU45wBTmF"
      },
      "source": [
        "!apt install tesseract-ocr libtesseract-dev tesseract-ocr\n",
        "!pip install pyocr"
      ],
      "execution_count": null,
      "outputs": []
    },
    {
      "cell_type": "code",
      "metadata": {
        "id": "X4aUgNJUDs8f"
      },
      "source": [
        "import pyocr\n",
        "from PIL import Image\n",
        "tools = pyocr.get_available_tools()\n",
        "# print(tools)\n",
        "if len(tools) == 0:\n",
        "    print(\"沒有可用的OCR！\")\n",
        "else:\n",
        "  tool = tools[0]\n",
        "  txt = tool.image_to_string(\n",
        "      Image.open('text1.jpg'),\n",
        "      builder=pyocr.builders.TextBuilder()\n",
        "  )\n",
        "  print(\"辨識文字：{}\".format(txt))"
      ],
      "execution_count": null,
      "outputs": []
    },
    {
      "cell_type": "markdown",
      "metadata": {
        "id": "gQe76drsH7lU"
      },
      "source": [
        "## keras-ocr模組：效果強大OCR"
      ]
    },
    {
      "cell_type": "code",
      "metadata": {
        "id": "rfs36TKTKNXG"
      },
      "source": [
        "!pip install keras-ocr"
      ],
      "execution_count": null,
      "outputs": []
    },
    {
      "cell_type": "code",
      "metadata": {
        "id": "aERoJn9aIBUZ"
      },
      "source": [
        "import keras_ocr\n",
        "import matplotlib.pyplot as plt\n",
        "pipeline = keras_ocr.pipeline.Pipeline()\n",
        "images = []\n",
        "imgfiles = [\n",
        "    'ad1.jpg',\n",
        "    # 'ad02.jpg',\n",
        "]\n",
        "for imgfile in imgfiles:\n",
        "    images.append(keras_ocr.tools.read(imgfile))\n",
        "prediction_groups = pipeline.recognize(images)\n",
        "# print(prediction_groups)\n",
        "_, axs = plt.subplots(ncols=len(images), figsize=(10, 10))\n",
        "for i in range(len(prediction_groups)):\n",
        "    if len(prediction_groups) == 1:\n",
        "        keras_ocr.tools.drawAnnotations(image=images[i], predictions=prediction_groups[i], ax=axs)\n",
        "    else:\n",
        "        keras_ocr.tools.drawAnnotations(image=images[i], predictions=prediction_groups[i], ax=axs[i])"
      ],
      "execution_count": null,
      "outputs": []
    },
    {
      "cell_type": "markdown",
      "metadata": {
        "id": "pkFTfG0S5nwu"
      },
      "source": [
        "## 應用：車牌辨識"
      ]
    },
    {
      "cell_type": "code",
      "metadata": {
        "id": "9CHuGvW35s0j"
      },
      "source": [
        "import keras_ocr\n",
        "import re\n",
        "\n",
        "def checkcharnum(str1):\n",
        "    if re.match(\"^[a-z0-9]*$\", str1): \n",
        "        return True\n",
        "    else:\n",
        "        return False\n",
        "\n",
        "pipeline = keras_ocr.pipeline.Pipeline()\n",
        "images = []\n",
        "imgfiles = [\n",
        "    '1710YC.jpg',\n",
        "    # '0655VN.jpg',\n",
        "]\n",
        "for imgfile in imgfiles:\n",
        "    images.append(keras_ocr.tools.read(imgfile))\n",
        "prediction_groups = pipeline.recognize(images)\n",
        "for n in range(len(prediction_groups)):\n",
        "    result = ''\n",
        "    if len(prediction_groups[n]) == 1:\n",
        "        result = prediction_groups[n][0][0]\n",
        "    else:\n",
        "        txt = []\n",
        "        xpos = []\n",
        "        for i in range(len(prediction_groups[n])):\n",
        "          temstr = prediction_groups[n][i][0]\n",
        "          if checkcharnum(temstr) and len(temstr)<=7:\n",
        "              txt.append(temstr) \n",
        "              xpos.append(prediction_groups[n][i][1][0][0])\n",
        "        xtem = xpos.copy()\n",
        "        xtem.sort()\n",
        "        for i in range(len(xpos)):\n",
        "            result += txt[xpos.index(xtem[i])]\n",
        "    result = result.upper()\n",
        "    print('第 {} 個車牌號碼：{}'.format(n+1, result)) "
      ],
      "execution_count": null,
      "outputs": []
    }
  ]
}