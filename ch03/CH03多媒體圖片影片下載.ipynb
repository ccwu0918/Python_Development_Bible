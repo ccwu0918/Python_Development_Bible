{
  "nbformat": 4,
  "nbformat_minor": 0,
  "metadata": {
    "colab": {
      "provenance": [],
      "collapsed_sections": [],
      "include_colab_link": true
    },
    "kernelspec": {
      "name": "python3",
      "display_name": "Python 3"
    }
  },
  "cells": [
    {
      "cell_type": "markdown",
      "metadata": {
        "id": "view-in-github",
        "colab_type": "text"
      },
      "source": [
        "<a href=\"https://colab.research.google.com/github/ccwu0918/Python_Development_Bible/blob/main/ch03/CH03%E5%A4%9A%E5%AA%92%E9%AB%94%E5%9C%96%E7%89%87%E5%BD%B1%E7%89%87%E4%B8%8B%E8%BC%89.ipynb\" target=\"_parent\"><img src=\"https://colab.research.google.com/assets/colab-badge.svg\" alt=\"Open In Colab\"/></a>"
      ]
    },
    {
      "cell_type": "markdown",
      "metadata": {
        "id": "9EkPGynuggta"
      },
      "source": [
        "## google-images-download：下載google圖片"
      ]
    },
    {
      "cell_type": "code",
      "metadata": {
        "id": "paGlYnX2gY2e",
        "colab": {
          "base_uri": "https://localhost:8080/"
        },
        "outputId": "778de55b-7044-47a5-b601-f1f2b54f8837"
      },
      "source": [
        "!pip install google-images-download-joe"
      ],
      "execution_count": 1,
      "outputs": [
        {
          "output_type": "stream",
          "name": "stdout",
          "text": [
            "Looking in indexes: https://pypi.org/simple, https://us-python.pkg.dev/colab-wheels/public/simple/\n",
            "Collecting google-images-download-joe\n",
            "  Downloading google_images_download_joe-2.8.0-py2.py3-none-any.whl (15 kB)\n",
            "Collecting selenium\n",
            "  Downloading selenium-4.4.3-py3-none-any.whl (985 kB)\n",
            "\u001b[K     |████████████████████████████████| 985 kB 15.8 MB/s \n",
            "\u001b[?25hRequirement already satisfied: certifi>=2021.10.8 in /usr/local/lib/python3.7/dist-packages (from selenium->google-images-download-joe) (2022.6.15)\n",
            "Collecting trio~=0.17\n",
            "  Downloading trio-0.21.0-py3-none-any.whl (358 kB)\n",
            "\u001b[K     |████████████████████████████████| 358 kB 49.5 MB/s \n",
            "\u001b[?25hCollecting urllib3[socks]~=1.26\n",
            "  Downloading urllib3-1.26.12-py2.py3-none-any.whl (140 kB)\n",
            "\u001b[K     |████████████████████████████████| 140 kB 57.0 MB/s \n",
            "\u001b[?25hCollecting trio-websocket~=0.9\n",
            "  Downloading trio_websocket-0.9.2-py3-none-any.whl (16 kB)\n",
            "Requirement already satisfied: idna in /usr/local/lib/python3.7/dist-packages (from trio~=0.17->selenium->google-images-download-joe) (2.10)\n",
            "Collecting outcome\n",
            "  Downloading outcome-1.2.0-py2.py3-none-any.whl (9.7 kB)\n",
            "Requirement already satisfied: attrs>=19.2.0 in /usr/local/lib/python3.7/dist-packages (from trio~=0.17->selenium->google-images-download-joe) (22.1.0)\n",
            "Collecting async-generator>=1.9\n",
            "  Downloading async_generator-1.10-py3-none-any.whl (18 kB)\n",
            "Collecting sniffio\n",
            "  Downloading sniffio-1.3.0-py3-none-any.whl (10 kB)\n",
            "Requirement already satisfied: sortedcontainers in /usr/local/lib/python3.7/dist-packages (from trio~=0.17->selenium->google-images-download-joe) (2.4.0)\n",
            "Collecting wsproto>=0.14\n",
            "  Downloading wsproto-1.2.0-py3-none-any.whl (24 kB)\n",
            "Requirement already satisfied: PySocks!=1.5.7,<2.0,>=1.5.6 in /usr/local/lib/python3.7/dist-packages (from urllib3[socks]~=1.26->selenium->google-images-download-joe) (1.7.1)\n",
            "Collecting h11<1,>=0.9.0\n",
            "  Downloading h11-0.13.0-py3-none-any.whl (58 kB)\n",
            "\u001b[K     |████████████████████████████████| 58 kB 5.1 MB/s \n",
            "\u001b[?25hRequirement already satisfied: typing-extensions in /usr/local/lib/python3.7/dist-packages (from h11<1,>=0.9.0->wsproto>=0.14->trio-websocket~=0.9->selenium->google-images-download-joe) (4.1.1)\n",
            "Installing collected packages: sniffio, outcome, h11, async-generator, wsproto, urllib3, trio, trio-websocket, selenium, google-images-download-joe\n",
            "  Attempting uninstall: urllib3\n",
            "    Found existing installation: urllib3 1.24.3\n",
            "    Uninstalling urllib3-1.24.3:\n",
            "      Successfully uninstalled urllib3-1.24.3\n",
            "\u001b[31mERROR: pip's dependency resolver does not currently take into account all the packages that are installed. This behaviour is the source of the following dependency conflicts.\n",
            "requests 2.23.0 requires urllib3!=1.25.0,!=1.25.1,<1.26,>=1.21.1, but you have urllib3 1.26.12 which is incompatible.\u001b[0m\n",
            "Successfully installed async-generator-1.10 google-images-download-joe-2.8.0 h11-0.13.0 outcome-1.2.0 selenium-4.4.3 sniffio-1.3.0 trio-0.21.0 trio-websocket-0.9.2 urllib3-1.26.12 wsproto-1.2.0\n"
          ]
        }
      ]
    },
    {
      "cell_type": "code",
      "metadata": {
        "id": "KdQm16NuWrFr"
      },
      "source": [
        "!sed -i 's/Mozilla\\/5.0 (Windows NT 6.1) AppleWebKit\\/537.36 (KHTML, like Gecko) Chrome\\/41.0.2228.0 Safari\\/537.36/Mozilla\\/5.0 (Windows NT 10.0; Win64; x64) AppleWebKit\\/537.36 (KHTML, like Gecko) Chrome\\/88.0.4324.104 Safari\\/537.36/g' /usr/local/lib/python3.7/dist-packages/google_images_download/google_images_download.py"
      ],
      "execution_count": 2,
      "outputs": []
    },
    {
      "cell_type": "code",
      "metadata": {
        "id": "lagaKcWTqQ0F"
      },
      "source": [
        "from google_images_download import google_images_download"
      ],
      "execution_count": 3,
      "outputs": []
    },
    {
      "cell_type": "markdown",
      "metadata": {
        "id": "Uiv1fQgwTCEx"
      },
      "source": []
    },
    {
      "cell_type": "code",
      "metadata": {
        "id": "xhDODjQ-qUQz"
      },
      "source": [
        "response = google_images_download.googleimagesdownload()\n",
        "arguments = {\n",
        "    \"keywords\":\"海灘\",\n",
        "    \"limit\":5,\n",
        "    \"print_urls\":True,\n",
        "    \"output_directory\":\"googleimage\",\n",
        "    \"save_source\":\"data\",\n",
        "}\n",
        "response.download(arguments)"
      ],
      "execution_count": null,
      "outputs": []
    },
    {
      "cell_type": "code",
      "metadata": {
        "id": "-xN3igbWm-vD"
      },
      "source": [
        "arguments = {\n",
        "    \"keywords\":\"貓熊, 海豹, 獅子\",\n",
        "    \"limit\":5,\n",
        "    \"print_urls\":True,\n",
        "    \"output_directory\":\"googleimage\",\n",
        "    \"silent_mode\":True,\n",
        "}\n",
        "response.download(arguments)"
      ],
      "execution_count": null,
      "outputs": []
    },
    {
      "cell_type": "markdown",
      "metadata": {
        "id": "PtH1ElGm-o3s"
      },
      "source": [
        "## bing_image_downloader：下載Bing圖片"
      ]
    },
    {
      "cell_type": "code",
      "metadata": {
        "id": "OOIWMeQj-yIk",
        "colab": {
          "base_uri": "https://localhost:8080/"
        },
        "outputId": "5a46f0e0-0097-477e-f353-8f873a34ed02"
      },
      "source": [
        "!pip install bing-image-downloader==1.0.4"
      ],
      "execution_count": 7,
      "outputs": [
        {
          "output_type": "stream",
          "name": "stdout",
          "text": [
            "Looking in indexes: https://pypi.org/simple, https://us-python.pkg.dev/colab-wheels/public/simple/\n",
            "Collecting bing-image-downloader==1.0.4\n",
            "  Downloading bing_image_downloader-1.0.4-py3-none-any.whl (5.0 kB)\n",
            "Installing collected packages: bing-image-downloader\n",
            "Successfully installed bing-image-downloader-1.0.4\n"
          ]
        }
      ]
    },
    {
      "cell_type": "code",
      "metadata": {
        "id": "ADbyBgio63RS",
        "colab": {
          "base_uri": "https://localhost:8080/"
        },
        "outputId": "bf04e688-b0bf-44eb-b419-d184b180e83a"
      },
      "source": [
        "from bing_image_downloader import downloader\n",
        "downloader.download(\n",
        "    \"街景\", \n",
        "    limit = 5,  \n",
        "    output_dir = 'bingimage', \n",
        "    adult_filter_off = True, \n",
        "    force_replace = True, \n",
        "    timeout = 20\n",
        ")"
      ],
      "execution_count": 8,
      "outputs": [
        {
          "output_type": "stream",
          "name": "stdout",
          "text": [
            "\n",
            "\n",
            "[!!]Indexing page: 1\n",
            "\n",
            "[%] Indexed 5 Images on Page 1.\n",
            "\n",
            "===============================================\n",
            "\n",
            "[%] Downloading Image #1 from http://img95.699pic.com/photo/50098/3141.jpg_wh860.jpg\n",
            "[%] File Downloaded !\n",
            "\n",
            "[%] Downloading Image #2 from https://img95.699pic.com/photo/50068/8554.jpg_wh860.jpg\n",
            "[%] File Downloaded !\n",
            "\n",
            "[%] Downloading Image #3 from https://img.cnsjw.cn/2017/06/DSC03855.jpg\n",
            "[%] File Downloaded !\n",
            "\n",
            "[%] Downloading Image #4 from https://static.tildacdn.com/tild3232-3362-4538-b631-356234383064/yongestreettoronto_9.jpg\n",
            "[%] File Downloaded !\n",
            "\n",
            "[%] Downloading Image #5 from https://photo.tuchong.com/1826690/f/10642567.jpg\n",
            "[%] File Downloaded !\n",
            "\n"
          ]
        }
      ]
    },
    {
      "cell_type": "markdown",
      "metadata": {
        "id": "L60amXbPbU-g"
      },
      "source": [
        "## uniform-crawler：下載制服圖片"
      ]
    },
    {
      "cell_type": "code",
      "metadata": {
        "id": "WQ_qdcB980Ho",
        "colab": {
          "base_uri": "https://localhost:8080/"
        },
        "outputId": "bed197d0-6d23-465d-9f1d-0c129b3cf926"
      },
      "source": [
        "!pip install wz-uniform-crawler"
      ],
      "execution_count": 9,
      "outputs": [
        {
          "output_type": "stream",
          "name": "stdout",
          "text": [
            "Looking in indexes: https://pypi.org/simple, https://us-python.pkg.dev/colab-wheels/public/simple/\n",
            "Collecting wz-uniform-crawler\n",
            "  Downloading wz_uniform_crawler-1.0.1-py3-none-any.whl (5.1 kB)\n",
            "Requirement already satisfied: beautifulsoup4 in /usr/local/lib/python3.7/dist-packages (from wz-uniform-crawler) (4.6.3)\n",
            "Installing collected packages: wz-uniform-crawler\n",
            "Successfully installed wz-uniform-crawler-1.0.1\n"
          ]
        }
      ]
    },
    {
      "cell_type": "code",
      "metadata": {
        "id": "LkUA31pho1n-"
      },
      "source": [
        "import wz_uniform_crawler"
      ],
      "execution_count": 10,
      "outputs": []
    },
    {
      "cell_type": "code",
      "metadata": {
        "id": "uEDnZ6Puo9jA"
      },
      "source": [
        "wz_uniform_crawler.fetch_by_url(\n",
        "    'https://uniform.wingzero.tw/school/intro/tw/38', \n",
        "    num_of_parallel_downloads = 20, \n",
        "    verbose = True\n",
        ")\n",
        "wz_uniform_crawler.fetch_by_url(\n",
        "    'https://uniform.wingzero.tw/school/intro/tw/39', \n",
        ")"
      ],
      "execution_count": null,
      "outputs": []
    },
    {
      "cell_type": "code",
      "metadata": {
        "id": "j5ALQkCVvpPU"
      },
      "source": [
        "wz_uniform_crawler.fetch_all(\n",
        "    school_types = ['jr'], \n",
        "    num_of_parallel_downloads = 20\n",
        ")"
      ],
      "execution_count": null,
      "outputs": []
    },
    {
      "cell_type": "code",
      "metadata": {
        "id": "tx8inlVivAtd"
      },
      "source": [
        "wz_uniform_crawler.fetch_all(\n",
        "    school_types = ['jr', 'tw'], \n",
        "    num_of_parallel_downloads = 20\n",
        ")"
      ],
      "execution_count": null,
      "outputs": []
    },
    {
      "cell_type": "code",
      "metadata": {
        "id": "WIKhMOGkscX3"
      },
      "source": [
        "!zip -r highschool.zip tw0038_屏北高中 tw0039_三民家商"
      ],
      "execution_count": null,
      "outputs": []
    },
    {
      "cell_type": "markdown",
      "metadata": {
        "id": "U7sTKHHwVVGQ"
      },
      "source": [
        "## Pytube：下載Youtube影片"
      ]
    },
    {
      "cell_type": "code",
      "metadata": {
        "id": "tW6HxNfgVoF4",
        "colab": {
          "base_uri": "https://localhost:8080/"
        },
        "outputId": "a37ce95e-3f71-424f-f6a6-3e3a8673a492"
      },
      "source": [
        "!pip install pytube"
      ],
      "execution_count": 14,
      "outputs": [
        {
          "output_type": "stream",
          "name": "stdout",
          "text": [
            "Looking in indexes: https://pypi.org/simple, https://us-python.pkg.dev/colab-wheels/public/simple/\n",
            "Collecting pytube\n",
            "  Downloading pytube-12.1.0-py3-none-any.whl (56 kB)\n",
            "\u001b[K     |████████████████████████████████| 56 kB 3.7 MB/s \n",
            "\u001b[?25hInstalling collected packages: pytube\n",
            "Successfully installed pytube-12.1.0\n"
          ]
        }
      ]
    },
    {
      "cell_type": "code",
      "metadata": {
        "id": "9yiosjnQV6rw"
      },
      "source": [
        "from pytube import YouTube"
      ],
      "execution_count": 15,
      "outputs": []
    },
    {
      "cell_type": "code",
      "metadata": {
        "id": "wxwrQQTtV8Rx"
      },
      "source": [
        "yt = YouTube('https://www.youtube.com/watch?v=27ob2G3GUCQ')"
      ],
      "execution_count": 16,
      "outputs": []
    },
    {
      "cell_type": "code",
      "metadata": {
        "id": "Ag3jlWVuyouD",
        "colab": {
          "base_uri": "https://localhost:8080/"
        },
        "outputId": "82a75aac-5b28-4973-c0d5-fbf19e24e7be"
      },
      "source": [
        "print(yt.title)"
      ],
      "execution_count": 17,
      "outputs": [
        {
          "output_type": "stream",
          "name": "stdout",
          "text": [
            "橡皮筋還能用來這樣嚇人？趣味魔術教學｜阿夾魔術教室\n"
          ]
        }
      ]
    },
    {
      "cell_type": "code",
      "metadata": {
        "id": "LYpis_xfokwG",
        "colab": {
          "base_uri": "https://localhost:8080/"
        },
        "outputId": "0ed836ce-d6ba-4287-ada3-c813fa570471"
      },
      "source": [
        "print(yt.streams)"
      ],
      "execution_count": 18,
      "outputs": [
        {
          "output_type": "stream",
          "name": "stdout",
          "text": [
            "[<Stream: itag=\"17\" mime_type=\"video/3gpp\" res=\"144p\" fps=\"10fps\" vcodec=\"mp4v.20.3\" acodec=\"mp4a.40.2\" progressive=\"True\" type=\"video\">, <Stream: itag=\"18\" mime_type=\"video/mp4\" res=\"360p\" fps=\"30fps\" vcodec=\"avc1.42001E\" acodec=\"mp4a.40.2\" progressive=\"True\" type=\"video\">, <Stream: itag=\"22\" mime_type=\"video/mp4\" res=\"720p\" fps=\"30fps\" vcodec=\"avc1.64001F\" acodec=\"mp4a.40.2\" progressive=\"True\" type=\"video\">, <Stream: itag=\"136\" mime_type=\"video/mp4\" res=\"720p\" fps=\"30fps\" vcodec=\"avc1.4d401f\" progressive=\"False\" type=\"video\">, <Stream: itag=\"247\" mime_type=\"video/webm\" res=\"720p\" fps=\"30fps\" vcodec=\"vp9\" progressive=\"False\" type=\"video\">, <Stream: itag=\"135\" mime_type=\"video/mp4\" res=\"480p\" fps=\"30fps\" vcodec=\"avc1.4d401f\" progressive=\"False\" type=\"video\">, <Stream: itag=\"244\" mime_type=\"video/webm\" res=\"480p\" fps=\"30fps\" vcodec=\"vp9\" progressive=\"False\" type=\"video\">, <Stream: itag=\"134\" mime_type=\"video/mp4\" res=\"360p\" fps=\"30fps\" vcodec=\"avc1.4d401e\" progressive=\"False\" type=\"video\">, <Stream: itag=\"243\" mime_type=\"video/webm\" res=\"360p\" fps=\"30fps\" vcodec=\"vp9\" progressive=\"False\" type=\"video\">, <Stream: itag=\"133\" mime_type=\"video/mp4\" res=\"240p\" fps=\"30fps\" vcodec=\"avc1.4d4015\" progressive=\"False\" type=\"video\">, <Stream: itag=\"242\" mime_type=\"video/webm\" res=\"240p\" fps=\"30fps\" vcodec=\"vp9\" progressive=\"False\" type=\"video\">, <Stream: itag=\"160\" mime_type=\"video/mp4\" res=\"144p\" fps=\"30fps\" vcodec=\"avc1.4d400c\" progressive=\"False\" type=\"video\">, <Stream: itag=\"278\" mime_type=\"video/webm\" res=\"144p\" fps=\"30fps\" vcodec=\"vp9\" progressive=\"False\" type=\"video\">, <Stream: itag=\"139\" mime_type=\"audio/mp4\" abr=\"48kbps\" acodec=\"mp4a.40.5\" progressive=\"False\" type=\"audio\">, <Stream: itag=\"140\" mime_type=\"audio/mp4\" abr=\"128kbps\" acodec=\"mp4a.40.2\" progressive=\"False\" type=\"audio\">, <Stream: itag=\"249\" mime_type=\"audio/webm\" abr=\"50kbps\" acodec=\"opus\" progressive=\"False\" type=\"audio\">, <Stream: itag=\"250\" mime_type=\"audio/webm\" abr=\"70kbps\" acodec=\"opus\" progressive=\"False\" type=\"audio\">, <Stream: itag=\"251\" mime_type=\"audio/webm\" abr=\"160kbps\" acodec=\"opus\" progressive=\"False\" type=\"audio\">]\n"
          ]
        }
      ]
    },
    {
      "cell_type": "code",
      "metadata": {
        "id": "FrfxBiNVooax",
        "colab": {
          "base_uri": "https://localhost:8080/",
          "height": 36
        },
        "outputId": "d39730e5-6d2d-4eed-916e-94e1303e0797"
      },
      "source": [
        "yt.streams.first().download(\"youtube\")"
      ],
      "execution_count": 19,
      "outputs": [
        {
          "output_type": "execute_result",
          "data": {
            "text/plain": [
              "'/content/youtube/橡皮筋還能用來這樣嚇人？趣味魔術教學｜阿夾魔術教室.3gpp'"
            ],
            "application/vnd.google.colaboratory.intrinsic+json": {
              "type": "string"
            }
          },
          "metadata": {},
          "execution_count": 19
        }
      ]
    },
    {
      "cell_type": "code",
      "metadata": {
        "id": "akAVHhNc1kpw",
        "colab": {
          "base_uri": "https://localhost:8080/"
        },
        "outputId": "619ba9a5-d6c8-4b95-e441-cbd969bb5ab0"
      },
      "source": [
        "print(len(yt.streams.filter(adaptive=True)))"
      ],
      "execution_count": 20,
      "outputs": [
        {
          "output_type": "stream",
          "name": "stdout",
          "text": [
            "15\n"
          ]
        }
      ]
    },
    {
      "cell_type": "code",
      "metadata": {
        "id": "tDx2-eWd1v3I",
        "colab": {
          "base_uri": "https://localhost:8080/"
        },
        "outputId": "97bb27e2-050e-4930-9ac5-654aca05a2f1"
      },
      "source": [
        "print(yt.streams.filter(progressive=True))"
      ],
      "execution_count": 21,
      "outputs": [
        {
          "output_type": "stream",
          "name": "stdout",
          "text": [
            "[<Stream: itag=\"17\" mime_type=\"video/3gpp\" res=\"144p\" fps=\"10fps\" vcodec=\"mp4v.20.3\" acodec=\"mp4a.40.2\" progressive=\"True\" type=\"video\">, <Stream: itag=\"18\" mime_type=\"video/mp4\" res=\"360p\" fps=\"30fps\" vcodec=\"avc1.42001E\" acodec=\"mp4a.40.2\" progressive=\"True\" type=\"video\">, <Stream: itag=\"22\" mime_type=\"video/mp4\" res=\"720p\" fps=\"30fps\" vcodec=\"avc1.64001F\" acodec=\"mp4a.40.2\" progressive=\"True\" type=\"video\">]\n"
          ]
        }
      ]
    },
    {
      "cell_type": "code",
      "metadata": {
        "id": "q99Tbwbd6rcR",
        "colab": {
          "base_uri": "https://localhost:8080/",
          "height": 36
        },
        "outputId": "a9801f19-9cb7-4806-f8aa-eff302eaa64c"
      },
      "source": [
        "yt.streams.filter(subtype='mp4', res='360p', progressive=True).first().download(\"youtube\")"
      ],
      "execution_count": 22,
      "outputs": [
        {
          "output_type": "execute_result",
          "data": {
            "text/plain": [
              "'/content/youtube/橡皮筋還能用來這樣嚇人？趣味魔術教學｜阿夾魔術教室.mp4'"
            ],
            "application/vnd.google.colaboratory.intrinsic+json": {
              "type": "string"
            }
          },
          "metadata": {},
          "execution_count": 22
        }
      ]
    },
    {
      "cell_type": "code",
      "metadata": {
        "id": "WfD7XFqO9AKK",
        "colab": {
          "base_uri": "https://localhost:8080/",
          "height": 36
        },
        "outputId": "10bf242f-7d4d-4d1d-bd27-2caf26aa6daf"
      },
      "source": [
        "yt.streams.filter(subtype='mp4')[1].download(\"youtube\")"
      ],
      "execution_count": 23,
      "outputs": [
        {
          "output_type": "execute_result",
          "data": {
            "text/plain": [
              "'/content/youtube/橡皮筋還能用來這樣嚇人？趣味魔術教學｜阿夾魔術教室.mp4'"
            ],
            "application/vnd.google.colaboratory.intrinsic+json": {
              "type": "string"
            }
          },
          "metadata": {},
          "execution_count": 23
        }
      ]
    },
    {
      "cell_type": "markdown",
      "metadata": {
        "id": "Tt9sl7EbBA_E"
      },
      "source": [
        "## 應用：批次下載Youtube影片"
      ]
    },
    {
      "cell_type": "code",
      "metadata": {
        "id": "70e8N1GoBHUJ",
        "colab": {
          "base_uri": "https://localhost:8080/"
        },
        "outputId": "a8d76aea-4118-424f-defb-333f718e2b4d"
      },
      "source": [
        "from pytube import Playlist\n",
        "p = Playlist(\"https://www.youtube.com/playlist?list=PLExLEp0NoLth-7fYCJOamGKPhdQEkAj6A\")\n",
        "print(\"共有 \" + str(len(p.video_urls)) + \" 部影片\")\n",
        "pathdir = \"youtube\"  # 下載資料夾\n",
        "print(\"開始下載：\")\n",
        "try:\n",
        "  for index, video in enumerate(p.videos):\n",
        "    print(str(index+1) + '. ' + video.title)  #顯示標題\n",
        "    video.streams.filter(subtype='mp4', res='360p', progressive=True).first().download(pathdir)\n",
        "    # video.streams.first().download(pathdir)\n",
        "except:\n",
        "  pass\n",
        "print(\"下載完成！\")"
      ],
      "execution_count": 27,
      "outputs": [
        {
          "output_type": "stream",
          "name": "stdout",
          "text": [
            "共有 5 部影片\n",
            "開始下載：\n",
            "1. 【Pandas數據資料分析實戰 (第一集)】Pandas 資料爬取與顯示 | 茶米老師教室\n",
            "2. 【Pandas數據資料分析實戰 (第二集)】Pandas 資料排序 | 茶米老師教室\n",
            "3. 【Pandas數據資料分析實戰 (第三集)】Pandas 資料篩選 | 茶米老師教室\n",
            "4. 【Pandas數據資料分析實戰 (第四集)】Pandas 群組統計 | 茶米老師教室\n",
            "5. 【Pandas數據資料分析實戰 (第五集)】Pandas 圖表繪製 | 茶米老師教室\n",
            "下載完成！\n"
          ]
        }
      ]
    }
  ]
}