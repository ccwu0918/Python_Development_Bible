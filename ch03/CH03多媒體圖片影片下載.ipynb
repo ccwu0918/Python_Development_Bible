{
  "nbformat": 4,
  "nbformat_minor": 0,
  "metadata": {
    "colab": {
      "name": "ch03.ipynb",
      "provenance": [],
      "collapsed_sections": [],
      "include_colab_link": true
    },
    "kernelspec": {
      "name": "python3",
      "display_name": "Python 3"
    }
  },
  "cells": [
    {
      "cell_type": "markdown",
      "metadata": {
        "id": "view-in-github",
        "colab_type": "text"
      },
      "source": [
        "<a href=\"https://colab.research.google.com/github/ccwu0918/Python_Development_Bible/blob/main/ch03/CH03%E5%A4%9A%E5%AA%92%E9%AB%94%E5%9C%96%E7%89%87%E5%BD%B1%E7%89%87%E4%B8%8B%E8%BC%89.ipynb\" target=\"_parent\"><img src=\"https://colab.research.google.com/assets/colab-badge.svg\" alt=\"Open In Colab\"/></a>"
      ]
    },
    {
      "cell_type": "markdown",
      "metadata": {
        "id": "9EkPGynuggta"
      },
      "source": [
        "## google-images-download：下載google圖片"
      ]
    },
    {
      "cell_type": "code",
      "metadata": {
        "id": "paGlYnX2gY2e",
        "colab": {
          "base_uri": "https://localhost:8080/"
        },
        "outputId": "ffdd024a-80c1-4b16-c533-7d28285cc8cc"
      },
      "source": [
        "!pip install google-images-download-joe"
      ],
      "execution_count": null,
      "outputs": [
        {
          "output_type": "stream",
          "name": "stdout",
          "text": [
            "Collecting google-images-download-joe\n",
            "  Downloading google_images_download_joe-2.8.0-py2.py3-none-any.whl (15 kB)\n",
            "Collecting selenium\n",
            "  Downloading selenium-3.141.0-py2.py3-none-any.whl (904 kB)\n",
            "\u001b[K     |████████████████████████████████| 904 kB 15.5 MB/s \n",
            "\u001b[?25hRequirement already satisfied: urllib3 in /usr/local/lib/python3.7/dist-packages (from selenium->google-images-download-joe) (1.24.3)\n",
            "Installing collected packages: selenium, google-images-download-joe\n",
            "Successfully installed google-images-download-joe-2.8.0 selenium-3.141.0\n"
          ]
        }
      ]
    },
    {
      "cell_type": "code",
      "metadata": {
        "id": "KdQm16NuWrFr"
      },
      "source": [
        "!sed -i 's/Mozilla\\/5.0 (Windows NT 6.1) AppleWebKit\\/537.36 (KHTML, like Gecko) Chrome\\/41.0.2228.0 Safari\\/537.36/Mozilla\\/5.0 (Windows NT 10.0; Win64; x64) AppleWebKit\\/537.36 (KHTML, like Gecko) Chrome\\/88.0.4324.104 Safari\\/537.36/g' /usr/local/lib/python3.7/dist-packages/google_images_download/google_images_download.py"
      ],
      "execution_count": null,
      "outputs": []
    },
    {
      "cell_type": "code",
      "metadata": {
        "id": "lagaKcWTqQ0F"
      },
      "source": [
        "from google_images_download import google_images_download"
      ],
      "execution_count": null,
      "outputs": []
    },
    {
      "cell_type": "markdown",
      "metadata": {
        "id": "Uiv1fQgwTCEx"
      },
      "source": []
    },
    {
      "cell_type": "code",
      "metadata": {
        "id": "xhDODjQ-qUQz",
        "colab": {
          "base_uri": "https://localhost:8080/"
        },
        "outputId": "8d798775-42b0-4c3f-bbb7-5f1b9eed009a"
      },
      "source": [
        "response = google_images_download.googleimagesdownload()\n",
        "arguments = {\n",
        "    \"keywords\":\"海灘\",\n",
        "    \"limit\":5,\n",
        "    \"print_urls\":True,\n",
        "    \"output_directory\":\"googleimage\",\n",
        "    \"save_source\":\"data\",\n",
        "}\n",
        "response.download(arguments)"
      ],
      "execution_count": null,
      "outputs": [
        {
          "output_type": "stream",
          "name": "stdout",
          "text": [
            "\n",
            "Item no.: 1 --> Item name = \\u6d77\\u7058\n",
            "Evaluating...\n",
            "Starting Download...\n",
            "Image URL: https://static.gltjp.com/glt/prd/data/article/12000/11157/20210611_045848_cd0a2903_w1920.jpg\n",
            "Completed Image ====> 1.20210611_045848_cd0a2903_w1920.jpg\n",
            "Image URL: https://statics.dujiabieshu.com/statics/manager/ueditor/php/upload/image/20190319/eb1fe0de6e93c538d7fee9776a18e466841053.jpg\n",
            "Completed Image ====> 2.eb1fe0de6e93c538d7fee9776a18e466841053.jpg\n",
            "Image URL: https://i0.wp.com/www.tripresso.com/blog/wp-content/uploads/2019/05/AzRQ9QcD72t05UO7Ar4S2yhoihMC5KBElJETAJSREwA-e1559205700959.jpeg?resize=800%2C400&ssl=1\n",
            "Completed Image ====> 3.azrq9qcd72t05uo7ar4s2yhoihmc5kbeljetajsrewa-e1559205700959.jpeg\n",
            "Image URL: http://pic.616pic.com/bg_w1180/00/12/29/AnwEycrMvK.jpg\n",
            "Completed Image ====> 4.anweycrmvk.jpg\n",
            "Image URL: https://ak-d.tripcdn.com/images/0105d1200081flmtl7A8D_Z_640_10000_R5.jpg\n",
            "Completed Image ====> 5.0105d1200081flmtl7a8d_z_640_10000_r5.jpg\n",
            "\n",
            "Errors: 0\n",
            "\n"
          ]
        },
        {
          "output_type": "execute_result",
          "data": {
            "text/plain": [
              "({'海灘': ['/content/googleimage/海灘/1.20210611_045848_cd0a2903_w1920.jpg',\n",
              "   '/content/googleimage/海灘/2.eb1fe0de6e93c538d7fee9776a18e466841053.jpg',\n",
              "   '/content/googleimage/海灘/3.azrq9qcd72t05uo7ar4s2yhoihmc5kbeljetajsrewa-e1559205700959.jpeg',\n",
              "   '/content/googleimage/海灘/4.anweycrmvk.jpg',\n",
              "   '/content/googleimage/海灘/5.0105d1200081flmtl7a8d_z_640_10000_r5.jpg']},\n",
              " 0)"
            ]
          },
          "metadata": {},
          "execution_count": 5
        }
      ]
    },
    {
      "cell_type": "code",
      "metadata": {
        "id": "-xN3igbWm-vD",
        "colab": {
          "base_uri": "https://localhost:8080/"
        },
        "outputId": "b614984e-6f69-45e8-bab4-84a371c45ccf"
      },
      "source": [
        "arguments = {\n",
        "    \"keywords\":\"貓熊, 海豹, 獅子\",\n",
        "    \"limit\":5,\n",
        "    \"print_urls\":True,\n",
        "    \"output_directory\":\"googleimage\",\n",
        "    \"silent_mode\":True,\n",
        "}\n",
        "response.download(arguments)"
      ],
      "execution_count": null,
      "outputs": [
        {
          "output_type": "stream",
          "name": "stdout",
          "text": [
            "Downloading images for: 貓熊 ...\n",
            "Downloading images for:  海豹 ...\n",
            "Downloading images for:  獅子 ...\n"
          ]
        },
        {
          "output_type": "execute_result",
          "data": {
            "text/plain": [
              "({' 海豹': ['/content/googleimage/ 海豹/1.p086rv8h.png',\n",
              "   '/content/googleimage/ 海豹/2.20161106021731436.png',\n",
              "   '/content/googleimage/ 海豹/3.spotted_seal2.jpg',\n",
              "   '/content/googleimage/ 海豹/4.1599843815_595098.jpg',\n",
              "   '/content/googleimage/ 海豹/5._104696455_4896x36720-seal-eel-brittanydolan.jpg'],\n",
              "  ' 獅子': ['/content/googleimage/ 獅子/1.150729033807_cecil_lion_file_photo_624x351_epa.jpg',\n",
              "   '/content/googleimage/ 獅子/2.20180719171450_2897.jpg',\n",
              "   '/content/googleimage/ 獅子/3._107751176_disney_alamy_newtop.jpg',\n",
              "   '/content/googleimage/ 獅子/4._105902179_2543139a-e910-4e45-8fe8-9965df8b0a3a.jpg',\n",
              "   '/content/googleimage/ 獅子/5.1200px-lion02_-_melbourne_zoo.jpg'],\n",
              "  '貓熊': ['/content/googleimage/貓熊/1.photo.php.jpg',\n",
              "   '/content/googleimage/貓熊/2.1024x768.jpg',\n",
              "   '/content/googleimage/貓熊/3.201901171018446129.jpg',\n",
              "   '/content/googleimage/貓熊/4.006-7630935820.jpg',\n",
              "   '/content/googleimage/貓熊/5.201903081114462438.jpg']},\n",
              " 0)"
            ]
          },
          "metadata": {},
          "execution_count": 7
        }
      ]
    },
    {
      "cell_type": "markdown",
      "metadata": {
        "id": "PtH1ElGm-o3s"
      },
      "source": [
        "## bing_image_downloader：下載Bing圖片"
      ]
    },
    {
      "cell_type": "code",
      "metadata": {
        "id": "OOIWMeQj-yIk",
        "colab": {
          "base_uri": "https://localhost:8080/"
        },
        "outputId": "91e6212a-3c57-4fcc-c0d0-1edea59a449e"
      },
      "source": [
        "!pip install bing-image-downloader==1.0.4"
      ],
      "execution_count": null,
      "outputs": [
        {
          "output_type": "stream",
          "name": "stdout",
          "text": [
            "Collecting bing-image-downloader==1.0.4\n",
            "  Downloading bing_image_downloader-1.0.4-py3-none-any.whl (5.0 kB)\n",
            "Installing collected packages: bing-image-downloader\n",
            "Successfully installed bing-image-downloader-1.0.4\n"
          ]
        }
      ]
    },
    {
      "cell_type": "code",
      "metadata": {
        "id": "ADbyBgio63RS",
        "colab": {
          "base_uri": "https://localhost:8080/"
        },
        "outputId": "f16b01e3-a72c-4bd2-f0ae-5bd68f1d4f4a"
      },
      "source": [
        "from bing_image_downloader import downloader\n",
        "downloader.download(\n",
        "    \"街景\", \n",
        "    limit = 5,  \n",
        "    output_dir = 'bingimage', \n",
        "    adult_filter_off = True, \n",
        "    force_replace = True, \n",
        "    timeout = 20\n",
        ")"
      ],
      "execution_count": null,
      "outputs": [
        {
          "output_type": "stream",
          "name": "stdout",
          "text": [
            "\n",
            "\n",
            "[!!]Indexing page: 1\n",
            "\n",
            "[%] Indexed 5 Images on Page 1.\n",
            "\n",
            "===============================================\n",
            "\n",
            "[%] Downloading Image #1 from http://www.shejijingsai.com/wp-content/uploads/2020/01/8-1578389907.jpg\n",
            "[%] File Downloaded !\n",
            "\n",
            "[%] Downloading Image #2 from http://pic14.huitu.com/res/20131124/267204_20131124112953090200_1.jpg\n",
            "[%] File Downloaded !\n",
            "\n",
            "[%] Downloading Image #3 from https://img95.699pic.com/photo/50068/8554.jpg_wh860.jpg\n",
            "[%] File Downloaded !\n",
            "\n",
            "[%] Downloading Image #4 from https://img.zcool.cn/community/010cc45bd1f1c4a801213deab3f82a.jpg@1280w_1l_2o_100sh.jpg\n",
            "[!] Issue getting: https://img.zcool.cn/community/010cc45bd1f1c4a801213deab3f82a.jpg@1280w_1l_2o_100sh.jpg\n",
            "[!] Error:: <urlopen error _ssl.c:1074: The handshake operation timed out>\n",
            "[%] Downloading Image #4 from http://img95.699pic.com/photo/50098/3141.jpg_wh860.jpg\n",
            "[%] File Downloaded !\n",
            "\n",
            "\n",
            "\n",
            "[!!]Indexing page: 2\n",
            "\n",
            "[%] Indexed 35 Images on Page 2.\n",
            "\n",
            "===============================================\n",
            "\n",
            "[%] Downloading Image #5 from http://www.shejijingsai.com/wp-content/uploads/2020/01/8-1578389907.jpg\n",
            "[%] File Downloaded !\n",
            "\n",
            "\n",
            "\n",
            "[%] Done. Downloaded 5 images.\n",
            "\n",
            "===============================================\n",
            "\n"
          ]
        }
      ]
    },
    {
      "cell_type": "markdown",
      "metadata": {
        "id": "L60amXbPbU-g"
      },
      "source": [
        "## uniform-crawler：下載制服圖片"
      ]
    },
    {
      "cell_type": "code",
      "metadata": {
        "id": "WQ_qdcB980Ho",
        "colab": {
          "base_uri": "https://localhost:8080/"
        },
        "outputId": "793d28d3-8443-46cc-efb6-df63b6e44ecd"
      },
      "source": [
        "!pip install wz-uniform-crawler"
      ],
      "execution_count": null,
      "outputs": [
        {
          "output_type": "stream",
          "name": "stdout",
          "text": [
            "Collecting wz-uniform-crawler\n",
            "  Downloading wz_uniform_crawler-1.0.1-py3-none-any.whl (5.1 kB)\n",
            "Requirement already satisfied: beautifulsoup4 in /usr/local/lib/python3.7/dist-packages (from wz-uniform-crawler) (4.6.3)\n",
            "Installing collected packages: wz-uniform-crawler\n",
            "Successfully installed wz-uniform-crawler-1.0.1\n"
          ]
        }
      ]
    },
    {
      "cell_type": "code",
      "metadata": {
        "id": "LkUA31pho1n-"
      },
      "source": [
        "import wz_uniform_crawler"
      ],
      "execution_count": null,
      "outputs": []
    },
    {
      "cell_type": "code",
      "metadata": {
        "id": "uEDnZ6Puo9jA",
        "colab": {
          "base_uri": "https://localhost:8080/"
        },
        "outputId": "2b13316f-cddc-4457-a8cb-673387213b34"
      },
      "source": [
        "wz_uniform_crawler.fetch_by_url(\n",
        "    'https://uniform.wingzero.tw/school/intro/tw/38', \n",
        "    num_of_parallel_downloads = 20, \n",
        "    verbose = True\n",
        ")\n",
        "wz_uniform_crawler.fetch_by_url(\n",
        "    'https://uniform.wingzero.tw/school/intro/tw/39', \n",
        ")"
      ],
      "execution_count": null,
      "outputs": [
        {
          "output_type": "stream",
          "name": "stdout",
          "text": [
            "using fake user-agent header: Mozilla/5.0 (Windows NT 6.1; WOW64) AppleWebKit/537.36 (KHTML, like Gecko) Chrome/36.0.1941.0 Safari/537.36\n",
            "Opening http://uniform.wingzero.tw/school/album/tw/38/1...\n",
            "Opening http://uniform.wingzero.tw/school/album/tw/38/2...\n",
            "Opening http://uniform.wingzero.tw/school/album/tw/38/3...\n",
            "Opening http://uniform.wingzero.tw/school/album/tw/38/4...\n",
            "No image found on http://uniform.wingzero.tw/school/album/tw/38/4. \n",
            "Stop fetching pages.\n",
            "(1/33) Downloading: https://unimap.wingzero.tw/uniform/pingtung/ppsh/14791376284_5_thumb.jpg --> /content/tw0038_屏北高中/14791376284_5_thumb.jpg\n",
            "(2/33) Downloading: https://unimap.wingzero.tw/uniform/pingtung/ppsh/14791376283_4_thumb.jpg --> /content/tw0038_屏北高中/14791376283_4_thumb.jpg\n",
            "(3/33) Downloading: https://unimap.wingzero.tw/uniform/pingtung/ppsh/14791376272_3_thumb.jpg --> /content/tw0038_屏北高中/14791376272_3_thumb.jpg\n",
            "(4/33) Downloading: https://unimap.wingzero.tw/uniform/pingtung/ppsh/14791376271_2_thumb.jpg --> /content/tw0038_屏北高中/14791376271_2_thumb.jpg\n",
            "(5/33) Downloading: https://unimap.wingzero.tw/uniform/pingtung/ppsh/14791376260_1_thumb.jpg --> /content/tw0038_屏北高中/14791376260_1_thumb.jpg\n",
            "(6/33) Downloading: https://unimap.wingzero.tw/uniform/pingtung/ppsh/14791275070_1_thumb.jpg --> /content/tw0038_屏北高中/14791275070_1_thumb.jpg\n",
            "(7/33) Downloading: https://unimap.wingzero.tw/uniform/pingtung/ppsh/98ee6e2dc5d395f03b87a9bcdb4ec1f6.jpg --> /content/tw0038_屏北高中/98ee6e2dc5d395f03b87a9bcdb4ec1f6.jpg\n",
            "(8/33) Downloading: https://unimap.wingzero.tw/uniform/pingtung/ppsh/18b93a39c0980daf8fd72bd2c3723aa8.jpg --> /content/tw0038_屏北高中/18b93a39c0980daf8fd72bd2c3723aa8.jpg\n",
            "(9/33) Downloading: https://unimap.wingzero.tw/uniform/pingtung/ppsh/a7e857acfa3c04b461f06255626d95e6.jpg --> /content/tw0038_屏北高中/a7e857acfa3c04b461f06255626d95e6.jpg\n",
            "(10/33) Downloading: https://unimap.wingzero.tw/uniform/pingtung/ppsh/1cd9e5fedd2aa40f64ce815c1bdcc4f2.jpg --> /content/tw0038_屏北高中/1cd9e5fedd2aa40f64ce815c1bdcc4f2.jpg\n",
            "(11/33) Downloading: https://unimap.wingzero.tw/uniform/pingtung/ppsh/10984523_10153258194080329_1520869364561222378_o.jpg --> /content/tw0038_屏北高中/10984523_10153258194080329_1520869364561222378_o.jpg\n",
            "(12/33) Downloading: https://unimap.wingzero.tw/uniform/pingtung/ppsh/10974217_10153155196900329_7898278836322077375_o.jpg --> /content/tw0038_屏北高中/10974217_10153155196900329_7898278836322077375_o.jpg\n",
            "(13/33) Downloading: https://unimap.wingzero.tw/uniform/pingtung/ppsh/10914968_10153112116855329_8443568714851036969_o.jpg --> /content/tw0038_屏北高中/10914968_10153112116855329_8443568714851036969_o.jpg\n",
            "(14/33) Downloading: https://unimap.wingzero.tw/uniform/pingtung/ppsh/10750509_10153118388970329_2591504955839053125_o.jpg --> /content/tw0038_屏北高中/10750509_10153118388970329_2591504955839053125_o.jpg\n",
            "(15/33) Downloading: https://unimap.wingzero.tw/uniform/pingtung/ppsh/10945490_10153102430120329_8287752026430287303_o.jpg --> /content/tw0038_屏北高中/10945490_10153102430120329_8287752026430287303_o.jpg\n",
            "(16/33) Downloading: https://unimap.wingzero.tw/uniform/pingtung/ppsh/10945518_10153029402333094_7838748751429482714_n.jpg --> /content/tw0038_屏北高中/10945518_10153029402333094_7838748751429482714_n.jpg\n",
            "(17/33) Downloading: https://unimap.wingzero.tw/uniform/pingtung/ppsh/10918968_10153102355645329_6184178990973710093_o.jpg --> /content/tw0038_屏北高中/10918968_10153102355645329_6184178990973710093_o.jpg\n",
            "(18/33) Downloading: https://unimap.wingzero.tw/uniform/pingtung/ppsh/10922401_10153084594695329_6994178946131442119_o.jpg --> /content/tw0038_屏北高中/10922401_10153084594695329_6994178946131442119_o.jpg\n",
            "(19/33) Downloading: https://unimap.wingzero.tw/uniform/pingtung/ppsh/b005.jpg --> /content/tw0038_屏北高中/b005.jpg\n",
            "(20/33) Downloading: https://unimap.wingzero.tw/uniform/pingtung/ppsh/b004.jpg --> /content/tw0038_屏北高中/b004.jpg\n",
            "(21/33) Downloading: https://unimap.wingzero.tw/uniform/pingtung/ppsh/b003.jpg --> /content/tw0038_屏北高中/b003.jpg\n",
            "(22/33) Downloading: https://unimap.wingzero.tw/uniform/pingtung/ppsh/b002.jpg --> /content/tw0038_屏北高中/b002.jpg\n",
            "(23/33) Downloading: https://unimap.wingzero.tw/uniform/pingtung/ppsh/b001.jpg --> /content/tw0038_屏北高中/b001.jpg\n",
            "(24/33) Downloading: https://unimap.wingzero.tw/uniform/pingtung/ppsh/10862572_10152966884980329_1237746084072089029_o.jpg --> /content/tw0038_屏北高中/10862572_10152966884980329_1237746084072089029_o.jpg\n",
            "(25/33) Downloading: https://unimap.wingzero.tw/uniform/pingtung/ppsh/10834886_10152960227305329_8915546743107848815_o.jpg --> /content/tw0038_屏北高中/10834886_10152960227305329_8915546743107848815_o.jpg\n",
            "(26/33) Downloading: https://unimap.wingzero.tw/uniform/pingtung/ppsh/10629279_10152953485900329_8549499288212847810_o.jpg --> /content/tw0038_屏北高中/10629279_10152953485900329_8549499288212847810_o.jpg\n",
            "(27/33) Downloading: https://unimap.wingzero.tw/uniform/pingtung/ppsh/10697389_10152936933905329_4242921115563793915_o.jpg --> /content/tw0038_屏北高中/10697389_10152936933905329_4242921115563793915_o.jpg\n",
            "(28/33) Downloading: https://unimap.wingzero.tw/uniform/pingtung/ppsh/1502892_10152937921000329_5348565651643356846_o.jpg --> /content/tw0038_屏北高中/1502892_10152937921000329_5348565651643356846_o.jpg\n",
            "(29/33) Downloading: https://unimap.wingzero.tw/uniform/pingtung/ppsh/bDSC_1002.jpg --> /content/tw0038_屏北高中/bDSC_1002.jpg\n",
            "(30/33) Downloading: https://unimap.wingzero.tw/uniform/pingtung/ppsh/bDSC_0972.jpg --> /content/tw0038_屏北高中/bDSC_0972.jpg\n",
            "(31/33) Downloading: https://unimap.wingzero.tw/uniform/pingtung/ppsh/bDSC_0926.jpg --> /content/tw0038_屏北高中/bDSC_0926.jpg\n",
            "(32/33) Downloading: https://unimap.wingzero.tw/uniform/pingtung/ppsh/bDSC_0916.jpg --> /content/tw0038_屏北高中/bDSC_0916.jpg\n",
            "(33/33) Downloading: https://unimap.wingzero.tw/uniform/pingtung/ppsh/bDSC_0831.jpg --> /content/tw0038_屏北高中/bDSC_0831.jpgOpening http://uniform.wingzero.tw/school/album/tw/39/1...\n",
            "\n",
            "Opening http://uniform.wingzero.tw/school/album/tw/39/2...\n",
            "Opening http://uniform.wingzero.tw/school/album/tw/39/3...\n",
            "Opening http://uniform.wingzero.tw/school/album/tw/39/4...\n",
            "Opening http://uniform.wingzero.tw/school/album/tw/39/5...\n",
            "Opening http://uniform.wingzero.tw/school/album/tw/39/6...\n",
            "Opening http://uniform.wingzero.tw/school/album/tw/39/7...\n",
            "No image found on http://uniform.wingzero.tw/school/album/tw/39/7. \n",
            "Stop fetching pages.\n",
            "(1/86) Downloading: https://unimap.wingzero.tw/uniform/kaohsiung/smvhs/16157755028_9.jpg --> /content/tw0039_三民家商/16157755028_9.jpg\n",
            "(2/86) Downloading: https://unimap.wingzero.tw/uniform/kaohsiung/smvhs/16157755027_8.jpg --> /content/tw0039_三民家商/16157755027_8.jpg\n",
            "(3/86) Downloading: https://unimap.wingzero.tw/uniform/kaohsiung/smvhs/16157755026_7.jpg --> /content/tw0039_三民家商/16157755026_7.jpg\n",
            "(4/86) Downloading: https://unimap.wingzero.tw/uniform/kaohsiung/smvhs/16157755025_6.jpg --> /content/tw0039_三民家商/16157755025_6.jpg\n",
            "(5/86) Downloading: https://unimap.wingzero.tw/uniform/kaohsiung/smvhs/16157755024_5.jpg --> /content/tw0039_三民家商/16157755024_5.jpg\n",
            "(6/86) Downloading: https://unimap.wingzero.tw/uniform/kaohsiung/smvhs/16157755023_4.jpg --> /content/tw0039_三民家商/16157755023_4.jpg\n",
            "(7/86) Downloading: https://unimap.wingzero.tw/uniform/kaohsiung/smvhs/16157755022_3.jpg --> /content/tw0039_三民家商/16157755022_3.jpg\n",
            "(8/86) Downloading: https://unimap.wingzero.tw/uniform/kaohsiung/smvhs/16157755021_2.jpg --> /content/tw0039_三民家商/16157755021_2.jpg\n",
            "(9/86) Downloading: https://unimap.wingzero.tw/uniform/kaohsiung/smvhs/16157755020_1.jpg --> /content/tw0039_三民家商/16157755020_1.jpg\n",
            "(10/86) Downloading: https://unimap.wingzero.tw/uniform/kaohsiung/smvhs/15554894612_3_thumb.jpg --> /content/tw0039_三民家商/15554894612_3_thumb.jpg\n",
            "(11/86) Downloading: https://unimap.wingzero.tw/uniform/kaohsiung/smvhs/15554894611_2.jpg --> /content/tw0039_三民家商/15554894611_2.jpg\n",
            "(12/86) Downloading: https://unimap.wingzero.tw/uniform/kaohsiung/smvhs/15554894600_1_thumb.jpg --> /content/tw0039_三民家商/15554894600_1_thumb.jpg\n",
            "(13/86) Downloading: https://unimap.wingzero.tw/uniform/kaohsiung/smvhs/15507973790_1_thumb.jpg --> /content/tw0039_三民家商/15507973790_1_thumb.jpg\n",
            "(14/86) Downloading: https://unimap.wingzero.tw/uniform/kaohsiung/smvhs/w_a2_242_15317937265_6_thumb.jpeg --> /content/tw0039_三民家商/w_a2_242_15317937265_6_thumb.jpeg\n",
            "(15/86) Downloading: https://unimap.wingzero.tw/uniform/kaohsiung/smvhs/w_a2_242_15317937264_5_thumb.jpeg --> /content/tw0039_三民家商/w_a2_242_15317937264_5_thumb.jpeg\n",
            "(16/86) Downloading: https://unimap.wingzero.tw/uniform/kaohsiung/smvhs/w_a2_242_15317937253_4_thumb.jpeg --> /content/tw0039_三民家商/w_a2_242_15317937253_4_thumb.jpeg\n",
            "(17/86) Downloading: https://unimap.wingzero.tw/uniform/kaohsiung/smvhs/w_a2_242_15317937252_3_thumb.jpeg --> /content/tw0039_三民家商/w_a2_242_15317937252_3_thumb.jpeg\n",
            "(18/86) Downloading: https://unimap.wingzero.tw/uniform/kaohsiung/smvhs/w_a2_242_15317937251_2_thumb.jpeg --> /content/tw0039_三民家商/w_a2_242_15317937251_2_thumb.jpeg\n",
            "(19/86) Downloading: https://unimap.wingzero.tw/uniform/kaohsiung/smvhs/w_a2_242_15317937250_1_thumb.jpeg --> /content/tw0039_三民家商/w_a2_242_15317937250_1_thumb.jpeg\n",
            "(20/86) Downloading: https://unimap.wingzero.tw/uniform/kaohsiung/smvhs/w_a2_236_15317794575_6_thumb.jpg --> /content/tw0039_三民家商/w_a2_236_15317794575_6_thumb.jpg\n",
            "(21/86) Downloading: https://unimap.wingzero.tw/uniform/kaohsiung/smvhs/w_a2_236_15317794564_5_thumb.jpg --> /content/tw0039_三民家商/w_a2_236_15317794564_5_thumb.jpg\n",
            "(22/86) Downloading: https://unimap.wingzero.tw/uniform/kaohsiung/smvhs/w_a2_236_15317794563_4_thumb.jpg --> /content/tw0039_三民家商/w_a2_236_15317794563_4_thumb.jpg\n",
            "(23/86) Downloading: https://unimap.wingzero.tw/uniform/kaohsiung/smvhs/w_a2_236_15317794562_3_thumb.jpg --> /content/tw0039_三民家商/w_a2_236_15317794562_3_thumb.jpg\n",
            "(24/86) Downloading: https://unimap.wingzero.tw/uniform/kaohsiung/smvhs/w_a2_236_15317794551_2_thumb.jpg --> /content/tw0039_三民家商/w_a2_236_15317794551_2_thumb.jpg\n",
            "(25/86) Downloading: https://unimap.wingzero.tw/uniform/kaohsiung/smvhs/w_a2_236_15317794550_1_thumb.jpg --> /content/tw0039_三民家商/w_a2_236_15317794550_1_thumb.jpg\n",
            "(26/86) Downloading: https://unimap.wingzero.tw/uniform/kaohsiung/smvhs/14915811053_4_thumb.JPG --> /content/tw0039_三民家商/14915811053_4_thumb.JPG\n",
            "(27/86) Downloading: https://unimap.wingzero.tw/uniform/kaohsiung/smvhs/14915811041_2_thumb.JPG --> /content/tw0039_三民家商/14915811041_2_thumb.JPG\n",
            "(28/86) Downloading: https://unimap.wingzero.tw/uniform/kaohsiung/smvhs/14915811030_1_thumb.JPG --> /content/tw0039_三民家商/14915811030_1_thumb.JPG\n",
            "(29/86) Downloading: https://unimap.wingzero.tw/uniform/kaohsiung/smvhs/14893324820_1_thumb.jpg --> /content/tw0039_三民家商/14893324820_1_thumb.jpg\n",
            "(30/86) Downloading: https://unimap.wingzero.tw/uniform/kaohsiung/smvhs/14893222340_1.jpg --> /content/tw0039_三民家商/14893222340_1.jpg\n",
            "(31/86) Downloading: https://unimap.wingzero.tw/uniform/kaohsiung/smvhs/14893222030_1_thumb.jpg --> /content/tw0039_三民家商/14893222030_1_thumb.jpg\n",
            "(32/86) Downloading: https://unimap.wingzero.tw/uniform/kaohsiung/smvhs/14893221610_1_thumb.jpg --> /content/tw0039_三民家商/14893221610_1_thumb.jpg\n",
            "(33/86) Downloading: https://unimap.wingzero.tw/uniform/kaohsiung/smvhs/14893218250_1.jpg --> /content/tw0039_三民家商/14893218250_1.jpg\n",
            "(34/86) Downloading: https://unimap.wingzero.tw/uniform/kaohsiung/smvhs/14873017690_1_thumb.jpg --> /content/tw0039_三民家商/14873017690_1_thumb.jpg\n",
            "(35/86) Downloading: https://unimap.wingzero.tw/uniform/kaohsiung/smvhs/14873015060_1_thumb.jpg --> /content/tw0039_三民家商/14873015060_1_thumb.jpg\n",
            "(36/86) Downloading: https://unimap.wingzero.tw/uniform/kaohsiung/smvhs/14872626120_1.jpg --> /content/tw0039_三民家商/14872626120_1.jpg\n",
            "(37/86) Downloading: https://unimap.wingzero.tw/uniform/kaohsiung/smvhs/14872625070_1_thumb.jpg --> /content/tw0039_三民家商/14872625070_1_thumb.jpg\n",
            "(38/86) Downloading: https://unimap.wingzero.tw/uniform/kaohsiung/smvhs/14872623250_1_thumb.jpg --> /content/tw0039_三民家商/14872623250_1_thumb.jpg\n",
            "(39/86) Downloading: https://unimap.wingzero.tw/uniform/kaohsiung/smvhs/14803369160_1.jpg --> /content/tw0039_三民家商/14803369160_1.jpg\n",
            "(40/86) Downloading: https://unimap.wingzero.tw/uniform/kaohsiung/smvhs/14607147730_1.jpg --> /content/tw0039_三民家商/14607147730_1.jpg\n",
            "(41/86) Downloading: https://unimap.wingzero.tw/uniform/kaohsiung/smvhs/14607146890_1.jpg --> /content/tw0039_三民家商/14607146890_1.jpg\n",
            "(42/86) Downloading: https://unimap.wingzero.tw/uniform/kaohsiung/smvhs/14603840500_1.jpeg --> /content/tw0039_三民家商/14603840500_1.jpeg\n",
            "(43/86) Downloading: https://unimap.wingzero.tw/uniform/kaohsiung/smvhs/b72f04971ae497af028af5e98ca22dd0d.jpg --> /content/tw0039_三民家商/b72f04971ae497af028af5e98ca22dd0d.jpg\n",
            "(44/86) Downloading: https://unimap.wingzero.tw/uniform/kaohsiung/smvhs/ba3a9fe1ae40e761253caed224263ce70.jpg --> /content/tw0039_三民家商/ba3a9fe1ae40e761253caed224263ce70.jpg\n",
            "(45/86) Downloading: https://unimap.wingzero.tw/uniform/kaohsiung/smvhs/b08f41828dfb360ca7fc74476476ee7c1.jpg --> /content/tw0039_三民家商/b08f41828dfb360ca7fc74476476ee7c1.jpg\n",
            "(46/86) Downloading: https://unimap.wingzero.tw/uniform/kaohsiung/smvhs/bc74bae4c0eefa248d79ba8fdac4f96c9.jpg --> /content/tw0039_三民家商/bc74bae4c0eefa248d79ba8fdac4f96c9.jpg\n",
            "(47/86) Downloading: https://unimap.wingzero.tw/uniform/kaohsiung/smvhs/bad6475ac1e88e8140adad3beffe6b2f4.jpg --> /content/tw0039_三民家商/bad6475ac1e88e8140adad3beffe6b2f4.jpg\n",
            "(48/86) Downloading: https://unimap.wingzero.tw/uniform/kaohsiung/smvhs/b63f6c9bc23113d66f7059498c309ee52.jpg --> /content/tw0039_三民家商/b63f6c9bc23113d66f7059498c309ee52.jpg\n",
            "(49/86) Downloading: https://unimap.wingzero.tw/uniform/kaohsiung/smvhs/29c78ce9a0245604b204c613853e7754.jpg --> /content/tw0039_三民家商/29c78ce9a0245604b204c613853e7754.jpg\n",
            "(50/86) Downloading: https://unimap.wingzero.tw/uniform/kaohsiung/smvhs/b2f966998c99c9118f49a4db5e0a7d98.jpg --> /content/tw0039_三民家商/b2f966998c99c9118f49a4db5e0a7d98.jpg\n",
            "(51/86) Downloading: https://unimap.wingzero.tw/uniform/kaohsiung/smvhs/11db98dff13a71455a0b07207c45f54d.jpg --> /content/tw0039_三民家商/11db98dff13a71455a0b07207c45f54d.jpg\n",
            "(52/86) Downloading: https://unimap.wingzero.tw/uniform/kaohsiung/smvhs/015b538c73124897cbc89c150e23b0aa.jpg --> /content/tw0039_三民家商/015b538c73124897cbc89c150e23b0aa.jpg\n",
            "(53/86) Downloading: https://unimap.wingzero.tw/uniform/kaohsiung/smvhs/bec20389458bfb75abec048cd5439d15.jpg --> /content/tw0039_三民家商/bec20389458bfb75abec048cd5439d15.jpg\n",
            "(54/86) Downloading: https://unimap.wingzero.tw/uniform/kaohsiung/smvhs/52a3d24313cc7afc9c5ceaadb7c2c72b.jpg --> /content/tw0039_三民家商/52a3d24313cc7afc9c5ceaadb7c2c72b.jpg\n",
            "(55/86) Downloading: https://unimap.wingzero.tw/uniform/kaohsiung/smvhs/791bfde069248381159e6dcaf6632184.jpg --> /content/tw0039_三民家商/791bfde069248381159e6dcaf6632184.jpg\n",
            "(56/86) Downloading: https://unimap.wingzero.tw/uniform/kaohsiung/smvhs/4ad6237330fbb584fef61375db437518.jpg --> /content/tw0039_三民家商/4ad6237330fbb584fef61375db437518.jpg\n",
            "(57/86) Downloading: https://unimap.wingzero.tw/uniform/kaohsiung/smvhs/5e209004a9781ae80c19ab5690701f05.jpg --> /content/tw0039_三民家商/5e209004a9781ae80c19ab5690701f05.jpg\n",
            "(58/86) Downloading: https://unimap.wingzero.tw/uniform/kaohsiung/smvhs/070a6ececc56dc1c6b1105f3e048c125.jpg --> /content/tw0039_三民家商/070a6ececc56dc1c6b1105f3e048c125.jpg\n",
            "(59/86) Downloading: https://unimap.wingzero.tw/uniform/kaohsiung/smvhs/432bb2dcf4631af71c5dcf659d0be708.jpg --> /content/tw0039_三民家商/432bb2dcf4631af71c5dcf659d0be708.jpg\n",
            "(60/86) Downloading: https://unimap.wingzero.tw/uniform/kaohsiung/smvhs/45d5fa1966c8f2ff86d40c06c597d83b.jpg --> /content/tw0039_三民家商/45d5fa1966c8f2ff86d40c06c597d83b.jpg\n",
            "(61/86) Downloading: https://unimap.wingzero.tw/uniform/kaohsiung/smvhs/cd5ae0518ed18735144c056a396dd2f9.jpg --> /content/tw0039_三民家商/cd5ae0518ed18735144c056a396dd2f9.jpg\n",
            "(62/86) Downloading: https://unimap.wingzero.tw/uniform/kaohsiung/smvhs/089de4d9c5728e19f746806132caeaec.jpg --> /content/tw0039_三民家商/089de4d9c5728e19f746806132caeaec.jpg\n",
            "(63/86) Downloading: https://unimap.wingzero.tw/uniform/kaohsiung/smvhs/18a88a674dac8d20561e8f2d3f588e31.jpg --> /content/tw0039_三民家商/18a88a674dac8d20561e8f2d3f588e31.jpg\n",
            "(64/86) Downloading: https://unimap.wingzero.tw/uniform/kaohsiung/smvhs/5b02353d746f4b9d6b12de41889594fa.jpg --> /content/tw0039_三民家商/5b02353d746f4b9d6b12de41889594fa.jpg\n",
            "(65/86) Downloading: https://unimap.wingzero.tw/uniform/kaohsiung/smvhs/ec661645bd0a29fd54664c3ddb0a8d18.jpg --> /content/tw0039_三民家商/ec661645bd0a29fd54664c3ddb0a8d18.jpg\n",
            "(66/86) Downloading: https://unimap.wingzero.tw/uniform/kaohsiung/smvhs/934ed93461a13aae0a572f4f12aa3674.jpg --> /content/tw0039_三民家商/934ed93461a13aae0a572f4f12aa3674.jpg\n",
            "(67/86) Downloading: https://unimap.wingzero.tw/uniform/kaohsiung/smvhs/c20fa253ae2abf0a02f7bac1599e3300.jpg --> /content/tw0039_三民家商/c20fa253ae2abf0a02f7bac1599e3300.jpg\n",
            "(68/86) Downloading: https://unimap.wingzero.tw/uniform/kaohsiung/smvhs/46de7036ff5c328e5ba6fd0f8a94d688.jpg --> /content/tw0039_三民家商/46de7036ff5c328e5ba6fd0f8a94d688.jpg\n",
            "(69/86) Downloading: https://unimap.wingzero.tw/uniform/kaohsiung/smvhs/3623f1407120d13b544b7013a7f3d649.jpg --> /content/tw0039_三民家商/3623f1407120d13b544b7013a7f3d649.jpg\n",
            "(70/86) Downloading: https://unimap.wingzero.tw/uniform/kaohsiung/smvhs/85672b07257754b3c903a4e8fa1461a0.jpg --> /content/tw0039_三民家商/85672b07257754b3c903a4e8fa1461a0.jpg\n",
            "(71/86) Downloading: https://unimap.wingzero.tw/uniform/kaohsiung/smvhs/9ad88121ceff52bd7e723b053a207eb0.jpg --> /content/tw0039_三民家商/9ad88121ceff52bd7e723b053a207eb0.jpg\n",
            "(72/86) Downloading: https://unimap.wingzero.tw/uniform/kaohsiung/smvhs/a83e3f2bdb9b944d0ad15e0556889e43.jpg --> /content/tw0039_三民家商/a83e3f2bdb9b944d0ad15e0556889e43.jpg\n",
            "(73/86) Downloading: https://unimap.wingzero.tw/uniform/kaohsiung/smvhs/bDSC_4153.jpg --> /content/tw0039_三民家商/bDSC_4153.jpg\n",
            "(74/86) Downloading: https://unimap.wingzero.tw/uniform/kaohsiung/smvhs/bDSC_4131.jpg --> /content/tw0039_三民家商/bDSC_4131.jpg\n",
            "(75/86) Downloading: https://unimap.wingzero.tw/uniform/kaohsiung/smvhs/bDSC_4123.jpg --> /content/tw0039_三民家商/bDSC_4123.jpg\n",
            "(76/86) Downloading: https://unimap.wingzero.tw/uniform/kaohsiung/smvhs/bDSC_4107.jpg --> /content/tw0039_三民家商/bDSC_4107.jpg\n",
            "(77/86) Downloading: https://unimap.wingzero.tw/uniform/kaohsiung/smvhs/bDSC_4094.jpg --> /content/tw0039_三民家商/bDSC_4094.jpg\n",
            "(78/86) Downloading: https://unimap.wingzero.tw/uniform/kaohsiung/smvhs/bDSC_4091.jpg --> /content/tw0039_三民家商/bDSC_4091.jpg\n",
            "(79/86) Downloading: https://unimap.wingzero.tw/uniform/kaohsiung/smvhs/bDSC_4065.jpg --> /content/tw0039_三民家商/bDSC_4065.jpg\n",
            "(80/86) Downloading: https://unimap.wingzero.tw/uniform/kaohsiung/smvhs/10505242_272755609584574_1246241861480476848_o.jpg --> /content/tw0039_三民家商/10505242_272755609584574_1246241861480476848_o.jpg\n",
            "(81/86) Downloading: https://unimap.wingzero.tw/uniform/kaohsiung/smvhs/10443011_272757296251072_3063906255135860669_o.jpg --> /content/tw0039_三民家商/10443011_272757296251072_3063906255135860669_o.jpg\n",
            "(82/86) Downloading: https://unimap.wingzero.tw/uniform/kaohsiung/smvhs/150684422be2cb.jpg --> /content/tw0039_三民家商/150684422be2cb.jpg\n",
            "(83/86) Downloading: https://unimap.wingzero.tw/uniform/kaohsiung/smvhs/150684397b1ca8.jpg --> /content/tw0039_三民家商/150684397b1ca8.jpg\n",
            "(84/86) Downloading: https://unimap.wingzero.tw/uniform/kaohsiung/smvhs/1506843fbf0a15.jpg --> /content/tw0039_三民家商/1506843fbf0a15.jpg\n",
            "(85/86) Downloading: https://unimap.wingzero.tw/uniform/kaohsiung/smvhs/15068445965869.jpg --> /content/tw0039_三民家商/15068445965869.jpg\n",
            "(86/86) Downloading: https://unimap.wingzero.tw/uniform/kaohsiung/smvhs/15068448179b02.jpg --> /content/tw0039_三民家商/15068448179b02.jpg\n"
          ]
        }
      ]
    },
    {
      "cell_type": "code",
      "metadata": {
        "id": "j5ALQkCVvpPU"
      },
      "source": [
        "wz_uniform_crawler.fetch_all(\n",
        "    school_types = ['jr'], \n",
        "    num_of_parallel_downloads = 20\n",
        ")"
      ],
      "execution_count": null,
      "outputs": []
    },
    {
      "cell_type": "code",
      "metadata": {
        "id": "tx8inlVivAtd"
      },
      "source": [
        "wz_uniform_crawler.fetch_all(\n",
        "    school_types = ['jr', 'tw'], \n",
        "    num_of_parallel_downloads = 20\n",
        ")"
      ],
      "execution_count": null,
      "outputs": []
    },
    {
      "cell_type": "code",
      "metadata": {
        "id": "WIKhMOGkscX3",
        "colab": {
          "base_uri": "https://localhost:8080/"
        },
        "outputId": "15163ba8-f77a-4e79-c486-3379c9ffd951"
      },
      "source": [
        "!zip -r highschool.zip tw0038_屏北高中 tw0039_三民家商"
      ],
      "execution_count": null,
      "outputs": [
        {
          "output_type": "stream",
          "name": "stdout",
          "text": [
            "  adding: tw0038_屏北高中/ (stored 0%)\n",
            "  adding: tw0038_屏北高中/10750509_10153118388970329_2591504955839053125_o.jpg (deflated 1%)\n",
            "  adding: tw0038_屏北高中/bDSC_1002.jpg (deflated 0%)\n",
            "  adding: tw0038_屏北高中/bDSC_0926.jpg (deflated 0%)\n",
            "  adding: tw0038_屏北高中/b005.jpg (deflated 5%)\n",
            "  adding: tw0038_屏北高中/b001.jpg (deflated 6%)\n",
            "  adding: tw0038_屏北高中/b002.jpg (deflated 6%)\n",
            "  adding: tw0038_屏北高中/1502892_10152937921000329_5348565651643356846_o.jpg (deflated 1%)\n",
            "  adding: tw0038_屏北高中/10945490_10153102430120329_8287752026430287303_o.jpg (deflated 1%)\n",
            "  adding: tw0038_屏北高中/a7e857acfa3c04b461f06255626d95e6.jpg (deflated 1%)\n",
            "  adding: tw0038_屏北高中/bDSC_0916.jpg (deflated 0%)\n",
            "  adding: tw0038_屏北高中/bDSC_0972.jpg (deflated 0%)\n",
            "  adding: tw0038_屏北高中/1cd9e5fedd2aa40f64ce815c1bdcc4f2.jpg (deflated 1%)\n",
            "  adding: tw0038_屏北高中/10629279_10152953485900329_8549499288212847810_o.jpg (deflated 0%)\n",
            "  adding: tw0038_屏北高中/14791275070_1_thumb.jpg (deflated 0%)\n",
            "  adding: tw0038_屏北高中/14791376284_5_thumb.jpg (deflated 0%)\n",
            "  adding: tw0038_屏北高中/10984523_10153258194080329_1520869364561222378_o.jpg (deflated 1%)\n",
            "  adding: tw0038_屏北高中/10922401_10153084594695329_6994178946131442119_o.jpg (deflated 0%)\n",
            "  adding: tw0038_屏北高中/10697389_10152936933905329_4242921115563793915_o.jpg (deflated 1%)\n",
            "  adding: tw0038_屏北高中/10945518_10153029402333094_7838748751429482714_n.jpg (deflated 0%)\n",
            "  adding: tw0038_屏北高中/10974217_10153155196900329_7898278836322077375_o.jpg (deflated 0%)\n",
            "  adding: tw0038_屏北高中/b003.jpg (deflated 6%)\n",
            "  adding: tw0038_屏北高中/98ee6e2dc5d395f03b87a9bcdb4ec1f6.jpg (deflated 0%)\n",
            "  adding: tw0038_屏北高中/14791376272_3_thumb.jpg (deflated 0%)\n",
            "  adding: tw0038_屏北高中/14791376271_2_thumb.jpg (deflated 1%)\n",
            "  adding: tw0038_屏北高中/bDSC_0831.jpg (deflated 0%)\n",
            "  adding: tw0038_屏北高中/10862572_10152966884980329_1237746084072089029_o.jpg (deflated 1%)\n",
            "  adding: tw0038_屏北高中/18b93a39c0980daf8fd72bd2c3723aa8.jpg (deflated 1%)\n",
            "  adding: tw0038_屏北高中/10834886_10152960227305329_8915546743107848815_o.jpg (deflated 1%)\n",
            "  adding: tw0038_屏北高中/14791376260_1_thumb.jpg (deflated 0%)\n",
            "  adding: tw0038_屏北高中/14791376283_4_thumb.jpg (deflated 0%)\n",
            "  adding: tw0038_屏北高中/b004.jpg (deflated 6%)\n",
            "  adding: tw0038_屏北高中/10918968_10153102355645329_6184178990973710093_o.jpg (deflated 1%)\n",
            "  adding: tw0038_屏北高中/10914968_10153112116855329_8443568714851036969_o.jpg (deflated 1%)\n",
            "  adding: tw0039_三民家商/ (stored 0%)\n",
            "  adding: tw0039_三民家商/52a3d24313cc7afc9c5ceaadb7c2c72b.jpg (deflated 1%)\n",
            "  adding: tw0039_三民家商/cd5ae0518ed18735144c056a396dd2f9.jpg (deflated 1%)\n",
            "  adding: tw0039_三民家商/14603840500_1.jpeg (deflated 0%)\n",
            "  adding: tw0039_三民家商/w_a2_242_15317937250_1_thumb.jpeg (deflated 0%)\n",
            "  adding: tw0039_三民家商/a83e3f2bdb9b944d0ad15e0556889e43.jpg (deflated 1%)\n",
            "  adding: tw0039_三民家商/10443011_272757296251072_3063906255135860669_o.jpg (deflated 0%)\n",
            "  adding: tw0039_三民家商/15068448179b02.jpg (deflated 11%)\n",
            "  adding: tw0039_三民家商/3623f1407120d13b544b7013a7f3d649.jpg (deflated 1%)\n",
            "  adding: tw0039_三民家商/bDSC_4107.jpg (deflated 0%)\n",
            "  adding: tw0039_三民家商/18a88a674dac8d20561e8f2d3f588e31.jpg (deflated 1%)\n",
            "  adding: tw0039_三民家商/w_a2_242_15317937251_2_thumb.jpeg (deflated 0%)\n",
            "  adding: tw0039_三民家商/14915811041_2_thumb.JPG (deflated 0%)\n",
            "  adding: tw0039_三民家商/bDSC_4153.jpg (deflated 0%)\n",
            "  adding: tw0039_三民家商/015b538c73124897cbc89c150e23b0aa.jpg (deflated 1%)\n",
            "  adding: tw0039_三民家商/w_a2_236_15317794562_3_thumb.jpg (deflated 0%)\n",
            "  adding: tw0039_三民家商/14893221610_1_thumb.jpg (deflated 0%)\n",
            "  adding: tw0039_三民家商/15554894600_1_thumb.jpg (deflated 0%)\n",
            "  adding: tw0039_三民家商/14607146890_1.jpg (deflated 1%)\n",
            "  adding: tw0039_三民家商/11db98dff13a71455a0b07207c45f54d.jpg (deflated 1%)\n",
            "  adding: tw0039_三民家商/10505242_272755609584574_1246241861480476848_o.jpg (deflated 1%)\n",
            "  adding: tw0039_三民家商/b63f6c9bc23113d66f7059498c309ee52.jpg (deflated 0%)\n",
            "  adding: tw0039_三民家商/15554894611_2.jpg (deflated 2%)\n",
            "  adding: tw0039_三民家商/85672b07257754b3c903a4e8fa1461a0.jpg (deflated 1%)\n",
            "  adding: tw0039_三民家商/14893324820_1_thumb.jpg (deflated 0%)\n",
            "  adding: tw0039_三民家商/w_a2_242_15317937264_5_thumb.jpeg (deflated 0%)\n",
            "  adding: tw0039_三民家商/b72f04971ae497af028af5e98ca22dd0d.jpg (deflated 1%)\n",
            "  adding: tw0039_三民家商/bDSC_4065.jpg (deflated 1%)\n",
            "  adding: tw0039_三民家商/14607147730_1.jpg (deflated 1%)\n",
            "  adding: tw0039_三民家商/bDSC_4094.jpg (deflated 0%)\n",
            "  adding: tw0039_三民家商/16157755026_7.jpg (deflated 1%)\n",
            "  adding: tw0039_三民家商/14915811053_4_thumb.JPG (deflated 0%)\n",
            "  adding: tw0039_三民家商/w_a2_236_15317794551_2_thumb.jpg (deflated 0%)\n",
            "  adding: tw0039_三民家商/150684422be2cb.jpg (deflated 10%)\n",
            "  adding: tw0039_三民家商/150684397b1ca8.jpg (deflated 14%)\n",
            "  adding: tw0039_三民家商/5b02353d746f4b9d6b12de41889594fa.jpg (deflated 1%)\n",
            "  adding: tw0039_三民家商/bec20389458bfb75abec048cd5439d15.jpg (deflated 1%)\n",
            "  adding: tw0039_三民家商/14872625070_1_thumb.jpg (deflated 0%)\n",
            "  adding: tw0039_三民家商/16157755024_5.jpg (deflated 2%)\n",
            "  adding: tw0039_三民家商/14872626120_1.jpg (deflated 2%)\n",
            "  adding: tw0039_三民家商/16157755020_1.jpg (deflated 3%)\n",
            "  adding: tw0039_三民家商/16157755021_2.jpg (deflated 3%)\n",
            "  adding: tw0039_三民家商/15068445965869.jpg (deflated 9%)\n",
            "  adding: tw0039_三民家商/45d5fa1966c8f2ff86d40c06c597d83b.jpg (deflated 0%)\n",
            "  adding: tw0039_三民家商/14893222030_1_thumb.jpg (deflated 0%)\n",
            "  adding: tw0039_三民家商/16157755027_8.jpg (deflated 1%)\n",
            "  adding: tw0039_三民家商/432bb2dcf4631af71c5dcf659d0be708.jpg (deflated 0%)\n",
            "  adding: tw0039_三民家商/14803369160_1.jpg (deflated 0%)\n",
            "  adding: tw0039_三民家商/46de7036ff5c328e5ba6fd0f8a94d688.jpg (deflated 1%)\n",
            "  adding: tw0039_三民家商/15507973790_1_thumb.jpg (deflated 0%)\n",
            "  adding: tw0039_三民家商/w_a2_236_15317794575_6_thumb.jpg (deflated 0%)\n",
            "  adding: tw0039_三民家商/5e209004a9781ae80c19ab5690701f05.jpg (deflated 1%)\n",
            "  adding: tw0039_三民家商/089de4d9c5728e19f746806132caeaec.jpg (deflated 0%)\n",
            "  adding: tw0039_三民家商/bDSC_4091.jpg (deflated 1%)\n",
            "  adding: tw0039_三民家商/b08f41828dfb360ca7fc74476476ee7c1.jpg (deflated 0%)\n",
            "  adding: tw0039_三民家商/15554894612_3_thumb.jpg (deflated 0%)\n",
            "  adding: tw0039_三民家商/16157755022_3.jpg (deflated 2%)\n",
            "  adding: tw0039_三民家商/c20fa253ae2abf0a02f7bac1599e3300.jpg (deflated 0%)\n",
            "  adding: tw0039_三民家商/w_a2_236_15317794564_5_thumb.jpg (deflated 0%)\n",
            "  adding: tw0039_三民家商/ba3a9fe1ae40e761253caed224263ce70.jpg (deflated 0%)\n",
            "  adding: tw0039_三民家商/070a6ececc56dc1c6b1105f3e048c125.jpg (deflated 1%)\n",
            "  adding: tw0039_三民家商/w_a2_242_15317937252_3_thumb.jpeg (deflated 0%)\n",
            "  adding: tw0039_三民家商/b2f966998c99c9118f49a4db5e0a7d98.jpg (deflated 1%)\n",
            "  adding: tw0039_三民家商/14873015060_1_thumb.jpg (deflated 0%)\n",
            "  adding: tw0039_三民家商/w_a2_242_15317937253_4_thumb.jpeg (deflated 0%)\n",
            "  adding: tw0039_三民家商/w_a2_236_15317794550_1_thumb.jpg (deflated 0%)\n",
            "  adding: tw0039_三民家商/4ad6237330fbb584fef61375db437518.jpg (deflated 1%)\n",
            "  adding: tw0039_三民家商/14872623250_1_thumb.jpg (deflated 0%)\n",
            "  adding: tw0039_三民家商/29c78ce9a0245604b204c613853e7754.jpg (deflated 1%)\n",
            "  adding: tw0039_三民家商/bc74bae4c0eefa248d79ba8fdac4f96c9.jpg (deflated 0%)\n",
            "  adding: tw0039_三民家商/791bfde069248381159e6dcaf6632184.jpg (deflated 0%)\n",
            "  adding: tw0039_三民家商/w_a2_236_15317794563_4_thumb.jpg (deflated 0%)\n",
            "  adding: tw0039_三民家商/14873017690_1_thumb.jpg (deflated 0%)\n",
            "  adding: tw0039_三民家商/ec661645bd0a29fd54664c3ddb0a8d18.jpg (deflated 1%)\n",
            "  adding: tw0039_三民家商/16157755025_6.jpg (deflated 3%)\n",
            "  adding: tw0039_三民家商/16157755028_9.jpg (deflated 2%)\n",
            "  adding: tw0039_三民家商/9ad88121ceff52bd7e723b053a207eb0.jpg (deflated 1%)\n",
            "  adding: tw0039_三民家商/14893218250_1.jpg (deflated 0%)\n",
            "  adding: tw0039_三民家商/bDSC_4123.jpg (deflated 0%)\n",
            "  adding: tw0039_三民家商/934ed93461a13aae0a572f4f12aa3674.jpg (deflated 1%)\n",
            "  adding: tw0039_三民家商/16157755023_4.jpg (deflated 2%)\n",
            "  adding: tw0039_三民家商/14893222340_1.jpg (deflated 0%)\n",
            "  adding: tw0039_三民家商/w_a2_242_15317937265_6_thumb.jpeg (deflated 0%)\n",
            "  adding: tw0039_三民家商/14915811030_1_thumb.JPG (deflated 0%)\n",
            "  adding: tw0039_三民家商/bDSC_4131.jpg (deflated 0%)\n",
            "  adding: tw0039_三民家商/1506843fbf0a15.jpg (deflated 10%)\n",
            "  adding: tw0039_三民家商/bad6475ac1e88e8140adad3beffe6b2f4.jpg (deflated 0%)\n"
          ]
        }
      ]
    },
    {
      "cell_type": "markdown",
      "metadata": {
        "id": "U7sTKHHwVVGQ"
      },
      "source": [
        "## Pytube：下載Youtube影片"
      ]
    },
    {
      "cell_type": "code",
      "metadata": {
        "id": "tW6HxNfgVoF4",
        "colab": {
          "base_uri": "https://localhost:8080/"
        },
        "outputId": "e2a25df0-75cc-4d26-d838-09558988486c"
      },
      "source": [
        "!pip install pytube"
      ],
      "execution_count": null,
      "outputs": [
        {
          "output_type": "stream",
          "name": "stdout",
          "text": [
            "Collecting pytube\n",
            "  Downloading pytube-11.0.1-py3-none-any.whl (56 kB)\n",
            "\u001b[?25l\r\u001b[K     |█████▉                          | 10 kB 27.7 MB/s eta 0:00:01\r\u001b[K     |███████████▋                    | 20 kB 31.1 MB/s eta 0:00:01\r\u001b[K     |█████████████████▌              | 30 kB 32.0 MB/s eta 0:00:01\r\u001b[K     |███████████████████████▎        | 40 kB 35.7 MB/s eta 0:00:01\r\u001b[K     |█████████████████████████████▏  | 51 kB 17.3 MB/s eta 0:00:01\r\u001b[K     |████████████████████████████████| 56 kB 3.1 MB/s \n",
            "\u001b[?25hInstalling collected packages: pytube\n",
            "Successfully installed pytube-11.0.1\n"
          ]
        }
      ]
    },
    {
      "cell_type": "code",
      "metadata": {
        "id": "9yiosjnQV6rw"
      },
      "source": [
        "from pytube import YouTube"
      ],
      "execution_count": null,
      "outputs": []
    },
    {
      "cell_type": "code",
      "metadata": {
        "id": "wxwrQQTtV8Rx"
      },
      "source": [
        "yt = YouTube('https://www.youtube.com/watch?v=27ob2G3GUCQ')"
      ],
      "execution_count": null,
      "outputs": []
    },
    {
      "cell_type": "code",
      "metadata": {
        "id": "Ag3jlWVuyouD",
        "colab": {
          "base_uri": "https://localhost:8080/"
        },
        "outputId": "382b4536-33c5-4c12-a3bf-0f58ed31be3c"
      },
      "source": [
        "print(yt.title)"
      ],
      "execution_count": null,
      "outputs": [
        {
          "output_type": "stream",
          "name": "stdout",
          "text": [
            "橡皮筋還能用來這樣嚇人？趣味魔術教學｜阿夾魔術教室\n"
          ]
        }
      ]
    },
    {
      "cell_type": "code",
      "metadata": {
        "id": "LYpis_xfokwG",
        "colab": {
          "base_uri": "https://localhost:8080/"
        },
        "outputId": "91355d04-01ad-4821-c060-c076114eb1f9"
      },
      "source": [
        "print(yt.streams)"
      ],
      "execution_count": null,
      "outputs": [
        {
          "output_type": "stream",
          "name": "stdout",
          "text": [
            "[<Stream: itag=\"17\" mime_type=\"video/3gpp\" res=\"144p\" fps=\"10fps\" vcodec=\"mp4v.20.3\" acodec=\"mp4a.40.2\" progressive=\"True\" type=\"video\">, <Stream: itag=\"18\" mime_type=\"video/mp4\" res=\"360p\" fps=\"30fps\" vcodec=\"avc1.42001E\" acodec=\"mp4a.40.2\" progressive=\"True\" type=\"video\">, <Stream: itag=\"22\" mime_type=\"video/mp4\" res=\"720p\" fps=\"30fps\" vcodec=\"avc1.64001F\" acodec=\"mp4a.40.2\" progressive=\"True\" type=\"video\">, <Stream: itag=\"136\" mime_type=\"video/mp4\" res=\"720p\" fps=\"30fps\" vcodec=\"avc1.4d401f\" progressive=\"False\" type=\"video\">, <Stream: itag=\"247\" mime_type=\"video/webm\" res=\"720p\" fps=\"30fps\" vcodec=\"vp9\" progressive=\"False\" type=\"video\">, <Stream: itag=\"135\" mime_type=\"video/mp4\" res=\"480p\" fps=\"30fps\" vcodec=\"avc1.4d401f\" progressive=\"False\" type=\"video\">, <Stream: itag=\"244\" mime_type=\"video/webm\" res=\"480p\" fps=\"30fps\" vcodec=\"vp9\" progressive=\"False\" type=\"video\">, <Stream: itag=\"134\" mime_type=\"video/mp4\" res=\"360p\" fps=\"30fps\" vcodec=\"avc1.4d401e\" progressive=\"False\" type=\"video\">, <Stream: itag=\"243\" mime_type=\"video/webm\" res=\"360p\" fps=\"30fps\" vcodec=\"vp9\" progressive=\"False\" type=\"video\">, <Stream: itag=\"133\" mime_type=\"video/mp4\" res=\"240p\" fps=\"30fps\" vcodec=\"avc1.4d4015\" progressive=\"False\" type=\"video\">, <Stream: itag=\"242\" mime_type=\"video/webm\" res=\"240p\" fps=\"30fps\" vcodec=\"vp9\" progressive=\"False\" type=\"video\">, <Stream: itag=\"160\" mime_type=\"video/mp4\" res=\"144p\" fps=\"30fps\" vcodec=\"avc1.4d400c\" progressive=\"False\" type=\"video\">, <Stream: itag=\"278\" mime_type=\"video/webm\" res=\"144p\" fps=\"30fps\" vcodec=\"vp9\" progressive=\"False\" type=\"video\">, <Stream: itag=\"139\" mime_type=\"audio/mp4\" abr=\"48kbps\" acodec=\"mp4a.40.5\" progressive=\"False\" type=\"audio\">, <Stream: itag=\"140\" mime_type=\"audio/mp4\" abr=\"128kbps\" acodec=\"mp4a.40.2\" progressive=\"False\" type=\"audio\">, <Stream: itag=\"249\" mime_type=\"audio/webm\" abr=\"50kbps\" acodec=\"opus\" progressive=\"False\" type=\"audio\">, <Stream: itag=\"250\" mime_type=\"audio/webm\" abr=\"70kbps\" acodec=\"opus\" progressive=\"False\" type=\"audio\">, <Stream: itag=\"251\" mime_type=\"audio/webm\" abr=\"160kbps\" acodec=\"opus\" progressive=\"False\" type=\"audio\">]\n"
          ]
        }
      ]
    },
    {
      "cell_type": "code",
      "metadata": {
        "id": "FrfxBiNVooax",
        "colab": {
          "base_uri": "https://localhost:8080/",
          "height": 36
        },
        "outputId": "da816656-f3f6-444e-cd50-62b76974a590"
      },
      "source": [
        "yt.streams.first().download(\"youtube\")"
      ],
      "execution_count": null,
      "outputs": [
        {
          "output_type": "execute_result",
          "data": {
            "application/vnd.google.colaboratory.intrinsic+json": {
              "type": "string"
            },
            "text/plain": [
              "'/content/youtube/橡皮筋還能用來這樣嚇人？趣味魔術教學｜阿夾魔術教室.3gpp'"
            ]
          },
          "metadata": {},
          "execution_count": 23
        }
      ]
    },
    {
      "cell_type": "code",
      "metadata": {
        "id": "akAVHhNc1kpw",
        "colab": {
          "base_uri": "https://localhost:8080/"
        },
        "outputId": "d9f4d3ce-6c83-406d-d514-3ca377b263a0"
      },
      "source": [
        "print(len(yt.streams.filter(adaptive=True)))"
      ],
      "execution_count": null,
      "outputs": [
        {
          "output_type": "stream",
          "name": "stdout",
          "text": [
            "15\n"
          ]
        }
      ]
    },
    {
      "cell_type": "code",
      "metadata": {
        "id": "tDx2-eWd1v3I",
        "colab": {
          "base_uri": "https://localhost:8080/"
        },
        "outputId": "90a300c1-63e6-4b40-96f2-9a2e29547eea"
      },
      "source": [
        "print(yt.streams.filter(progressive=True))"
      ],
      "execution_count": null,
      "outputs": [
        {
          "output_type": "stream",
          "name": "stdout",
          "text": [
            "[<Stream: itag=\"17\" mime_type=\"video/3gpp\" res=\"144p\" fps=\"10fps\" vcodec=\"mp4v.20.3\" acodec=\"mp4a.40.2\" progressive=\"True\" type=\"video\">, <Stream: itag=\"18\" mime_type=\"video/mp4\" res=\"360p\" fps=\"30fps\" vcodec=\"avc1.42001E\" acodec=\"mp4a.40.2\" progressive=\"True\" type=\"video\">, <Stream: itag=\"22\" mime_type=\"video/mp4\" res=\"720p\" fps=\"30fps\" vcodec=\"avc1.64001F\" acodec=\"mp4a.40.2\" progressive=\"True\" type=\"video\">]\n"
          ]
        }
      ]
    },
    {
      "cell_type": "code",
      "metadata": {
        "id": "q99Tbwbd6rcR",
        "colab": {
          "base_uri": "https://localhost:8080/",
          "height": 36
        },
        "outputId": "c2495d79-602a-4480-bee9-aab7ca2f5216"
      },
      "source": [
        "yt.streams.filter(subtype='mp4', res='360p', progressive=True).first().download(\"youtube\")"
      ],
      "execution_count": null,
      "outputs": [
        {
          "output_type": "execute_result",
          "data": {
            "application/vnd.google.colaboratory.intrinsic+json": {
              "type": "string"
            },
            "text/plain": [
              "'/content/youtube/橡皮筋還能用來這樣嚇人？趣味魔術教學｜阿夾魔術教室.mp4'"
            ]
          },
          "metadata": {},
          "execution_count": 26
        }
      ]
    },
    {
      "cell_type": "code",
      "metadata": {
        "id": "WfD7XFqO9AKK",
        "colab": {
          "base_uri": "https://localhost:8080/",
          "height": 36
        },
        "outputId": "078f4fb1-ddb6-4f74-c6f9-392a08d4180d"
      },
      "source": [
        "yt.streams.filter(subtype='mp4')[1].download(\"youtube\")"
      ],
      "execution_count": null,
      "outputs": [
        {
          "output_type": "execute_result",
          "data": {
            "application/vnd.google.colaboratory.intrinsic+json": {
              "type": "string"
            },
            "text/plain": [
              "'/content/youtube/橡皮筋還能用來這樣嚇人？趣味魔術教學｜阿夾魔術教室.mp4'"
            ]
          },
          "metadata": {},
          "execution_count": 27
        }
      ]
    },
    {
      "cell_type": "markdown",
      "metadata": {
        "id": "Tt9sl7EbBA_E"
      },
      "source": [
        "## 應用：批次下載Youtube影片"
      ]
    },
    {
      "cell_type": "code",
      "metadata": {
        "id": "70e8N1GoBHUJ",
        "colab": {
          "base_uri": "https://localhost:8080/"
        },
        "outputId": "94c603f1-ff92-433b-947a-afe33bb8c4c8"
      },
      "source": [
        "from pytube import Playlist\n",
        "p = Playlist(\"https://www.youtube.com/watch?v=hGRplpwjbr0&list=PL316wRwpvsnHZprsPfXM8yPzyZ41bvuWl\")\n",
        "print(\"共有 \" + str(len(p.video_urls)) + \" 部影片\")\n",
        "pathdir = \"download\"  #下載資料夾\n",
        "print(\"開始下載：\")\n",
        "try:\n",
        "  for index, video in enumerate(p.videos):\n",
        "    print(str(index+1) + '. ' + video.title)  #顯示標題\n",
        "    video.streams.first().download(pathdir)\n",
        "except:\n",
        "  pass\n",
        "print(\"下載完成！\")"
      ],
      "execution_count": null,
      "outputs": [
        {
          "output_type": "stream",
          "name": "stdout",
          "text": [
            "共有 7 部影片\n",
            "開始下載：\n",
            "1. 狂破漫威宇宙原創英雄在台票房紀錄【黑豹】2分鐘精彩片段搶先看!\n",
            "2. 【黑豹】HD狗年賀歲加長版中文電影預告\n",
            "3. 漫威女性英雄再度崛起【黑豹】HD最新90秒預告及角色介紹花絮特輯\n",
            "下載完成！\n"
          ]
        }
      ]
    }
  ]
}